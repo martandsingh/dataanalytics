{
 "cells": [
  {
   "cell_type": "code",
   "execution_count": null,
   "metadata": {},
   "outputs": [],
   "source": [
    "# Gapminder case study - The main motto of this case study is to explan basic operation and visualization in R.\n",
    "# this case study is a part of HarvardX data science course. I just tried to explain what i understood from it.\n",
    "# Feel free to suggest improvements and mistakes (if you find any)."
   ]
  },
  {
   "cell_type": "code",
   "execution_count": 1,
   "metadata": {},
   "outputs": [
    {
     "name": "stderr",
     "output_type": "stream",
     "text": [
      "Warning message:\n",
      "\"package 'dslabs' was built under R version 3.6.3\"Warning message:\n",
      "\"package 'tidyverse' was built under R version 3.6.3\"-- Attaching packages --------------------------------------- tidyverse 1.3.0 --\n",
      "v ggplot2 3.3.0     v purrr   0.3.3\n",
      "v tibble  2.1.3     v dplyr   0.8.5\n",
      "v tidyr   1.0.2     v stringr 1.4.0\n",
      "v readr   1.3.1     v forcats 0.5.0\n",
      "Warning message:\n",
      "\"package 'ggplot2' was built under R version 3.6.3\"Warning message:\n",
      "\"package 'tibble' was built under R version 3.6.3\"Warning message:\n",
      "\"package 'tidyr' was built under R version 3.6.3\"Warning message:\n",
      "\"package 'readr' was built under R version 3.6.3\"Warning message:\n",
      "\"package 'purrr' was built under R version 3.6.3\"Warning message:\n",
      "\"package 'dplyr' was built under R version 3.6.3\"Warning message:\n",
      "\"package 'stringr' was built under R version 3.6.3\"Warning message:\n",
      "\"package 'forcats' was built under R version 3.6.3\"-- Conflicts ------------------------------------------ tidyverse_conflicts() --\n",
      "x dplyr::filter() masks stats::filter()\n",
      "x dplyr::lag()    masks stats::lag()\n"
     ]
    }
   ],
   "source": [
    "library(dslabs) # for dataset\n",
    "library(tidyverse)\n",
    "library(dplyr)\n",
    "options(repr.plot.width=8, repr.plot.height=4) # to resize the plots"
   ]
  },
  {
   "cell_type": "markdown",
   "metadata": {},
   "source": [
    "# Basic Operations "
   ]
  },
  {
   "cell_type": "code",
   "execution_count": 2,
   "metadata": {},
   "outputs": [],
   "source": [
    "# Load dataset\n",
    "data(gapminder) # it will load data in a variable name same as dataset. In this case gapminder."
   ]
  },
  {
   "cell_type": "markdown",
   "metadata": {},
   "source": [
    "Gapminder dataset is a dataset provided by Gapminder.org. It is a dataset containing gdp, fertilityrate, mortalityrate for different countries. Main target of our case study is to observe few keyfact:\n",
    "1. Is there any relationship between fertility rate and mortality rate?\n",
    "2. Which continent has more developed countries and developing or poor countries?\n",
    "3. Is there any change in status of poor or developing countries in terms of gdp?\n",
    "4. Are poor countries getting poorer?\n",
    "\n",
    "There are many questions which we will try to understand using this case study. Few keypoints:\n",
    "a. Fertility Rate: It is the average number of child a woman can have.\n",
    "b. Infant Mortality Rate: How long child live?\n",
    "c. GDP: a basic but rough idea to define how rich is your country.\n",
    "d. Mortality Rate: What is the average life span.\n",
    "\n",
    "I think other fields are pretty much clear with there name."
   ]
  },
  {
   "cell_type": "code",
   "execution_count": 3,
   "metadata": {},
   "outputs": [
    {
     "data": {
      "text/html": [
       "<table>\n",
       "<thead><tr><th scope=col>country</th><th scope=col>year</th><th scope=col>infant_mortality</th><th scope=col>life_expectancy</th><th scope=col>fertility</th><th scope=col>population</th><th scope=col>gdp</th><th scope=col>continent</th><th scope=col>region</th></tr></thead>\n",
       "<tbody>\n",
       "\t<tr><td>Albania            </td><td>1960               </td><td>115.40             </td><td>62.87              </td><td>6.19               </td><td> 1636054           </td><td>          NA       </td><td>Europe             </td><td>Southern Europe    </td></tr>\n",
       "\t<tr><td>Algeria            </td><td>1960               </td><td>148.20             </td><td>47.50              </td><td>7.65               </td><td>11124892           </td><td> 13828152297       </td><td>Africa             </td><td>Northern Africa    </td></tr>\n",
       "\t<tr><td>Angola             </td><td>1960               </td><td>208.00             </td><td>35.98              </td><td>7.32               </td><td> 5270844           </td><td>          NA       </td><td>Africa             </td><td>Middle Africa      </td></tr>\n",
       "\t<tr><td>Antigua and Barbuda</td><td>1960               </td><td>    NA             </td><td>62.97              </td><td>4.43               </td><td>   54681           </td><td>          NA       </td><td>Americas           </td><td>Caribbean          </td></tr>\n",
       "\t<tr><td>Argentina          </td><td>1960               </td><td> 59.87             </td><td>65.39              </td><td>3.11               </td><td>20619075           </td><td>108322326649       </td><td>Americas           </td><td>South America      </td></tr>\n",
       "\t<tr><td>Armenia            </td><td>1960               </td><td>    NA             </td><td>66.86              </td><td>4.55               </td><td> 1867396           </td><td>          NA       </td><td>Asia               </td><td>Western Asia       </td></tr>\n",
       "</tbody>\n",
       "</table>\n"
      ],
      "text/latex": [
       "\\begin{tabular}{r|lllllllll}\n",
       " country & year & infant\\_mortality & life\\_expectancy & fertility & population & gdp & continent & region\\\\\n",
       "\\hline\n",
       "\t Albania             & 1960                & 115.40              & 62.87               & 6.19                &  1636054            &           NA        & Europe              & Southern Europe    \\\\\n",
       "\t Algeria             & 1960                & 148.20              & 47.50               & 7.65                & 11124892            &  13828152297        & Africa              & Northern Africa    \\\\\n",
       "\t Angola              & 1960                & 208.00              & 35.98               & 7.32                &  5270844            &           NA        & Africa              & Middle Africa      \\\\\n",
       "\t Antigua and Barbuda & 1960                &     NA              & 62.97               & 4.43                &    54681            &           NA        & Americas            & Caribbean          \\\\\n",
       "\t Argentina           & 1960                &  59.87              & 65.39               & 3.11                & 20619075            & 108322326649        & Americas            & South America      \\\\\n",
       "\t Armenia             & 1960                &     NA              & 66.86               & 4.55                &  1867396            &           NA        & Asia                & Western Asia       \\\\\n",
       "\\end{tabular}\n"
      ],
      "text/markdown": [
       "\n",
       "| country | year | infant_mortality | life_expectancy | fertility | population | gdp | continent | region |\n",
       "|---|---|---|---|---|---|---|---|---|\n",
       "| Albania             | 1960                | 115.40              | 62.87               | 6.19                |  1636054            |           NA        | Europe              | Southern Europe     |\n",
       "| Algeria             | 1960                | 148.20              | 47.50               | 7.65                | 11124892            |  13828152297        | Africa              | Northern Africa     |\n",
       "| Angola              | 1960                | 208.00              | 35.98               | 7.32                |  5270844            |           NA        | Africa              | Middle Africa       |\n",
       "| Antigua and Barbuda | 1960                |     NA              | 62.97               | 4.43                |    54681            |           NA        | Americas            | Caribbean           |\n",
       "| Argentina           | 1960                |  59.87              | 65.39               | 3.11                | 20619075            | 108322326649        | Americas            | South America       |\n",
       "| Armenia             | 1960                |     NA              | 66.86               | 4.55                |  1867396            |           NA        | Asia                | Western Asia        |\n",
       "\n"
      ],
      "text/plain": [
       "  country             year infant_mortality life_expectancy fertility\n",
       "1 Albania             1960 115.40           62.87           6.19     \n",
       "2 Algeria             1960 148.20           47.50           7.65     \n",
       "3 Angola              1960 208.00           35.98           7.32     \n",
       "4 Antigua and Barbuda 1960     NA           62.97           4.43     \n",
       "5 Argentina           1960  59.87           65.39           3.11     \n",
       "6 Armenia             1960     NA           66.86           4.55     \n",
       "  population gdp          continent region         \n",
       "1  1636054             NA Europe    Southern Europe\n",
       "2 11124892    13828152297 Africa    Northern Africa\n",
       "3  5270844             NA Africa    Middle Africa  \n",
       "4    54681             NA Americas  Caribbean      \n",
       "5 20619075   108322326649 Americas  South America  \n",
       "6  1867396             NA Asia      Western Asia   "
      ]
     },
     "metadata": {},
     "output_type": "display_data"
    }
   ],
   "source": [
    "# Explore dataset\n",
    "head(gapminder) # load top 6 rows of the dataset"
   ]
  },
  {
   "cell_type": "code",
   "execution_count": 4,
   "metadata": {},
   "outputs": [
    {
     "data": {
      "text/html": [
       "<ol class=list-inline>\n",
       "\t<li>'country'</li>\n",
       "\t<li>'year'</li>\n",
       "\t<li>'infant_mortality'</li>\n",
       "\t<li>'life_expectancy'</li>\n",
       "\t<li>'fertility'</li>\n",
       "\t<li>'population'</li>\n",
       "\t<li>'gdp'</li>\n",
       "\t<li>'continent'</li>\n",
       "\t<li>'region'</li>\n",
       "</ol>\n"
      ],
      "text/latex": [
       "\\begin{enumerate*}\n",
       "\\item 'country'\n",
       "\\item 'year'\n",
       "\\item 'infant\\_mortality'\n",
       "\\item 'life\\_expectancy'\n",
       "\\item 'fertility'\n",
       "\\item 'population'\n",
       "\\item 'gdp'\n",
       "\\item 'continent'\n",
       "\\item 'region'\n",
       "\\end{enumerate*}\n"
      ],
      "text/markdown": [
       "1. 'country'\n",
       "2. 'year'\n",
       "3. 'infant_mortality'\n",
       "4. 'life_expectancy'\n",
       "5. 'fertility'\n",
       "6. 'population'\n",
       "7. 'gdp'\n",
       "8. 'continent'\n",
       "9. 'region'\n",
       "\n",
       "\n"
      ],
      "text/plain": [
       "[1] \"country\"          \"year\"             \"infant_mortality\" \"life_expectancy\" \n",
       "[5] \"fertility\"        \"population\"       \"gdp\"              \"continent\"       \n",
       "[9] \"region\"          "
      ]
     },
     "metadata": {},
     "output_type": "display_data"
    }
   ],
   "source": [
    "# Explore columns\n",
    "names(gapminder)"
   ]
  },
  {
   "cell_type": "code",
   "execution_count": 11,
   "metadata": {},
   "outputs": [
    {
     "name": "stdout",
     "output_type": "stream",
     "text": [
      "rows: 10545\n",
      "cols:  9"
     ]
    }
   ],
   "source": [
    "# Rows and column counts\n",
    "cat(\"rows:\", nrow(gapminder))\n",
    "cat(\"\\ncols: \", ncol(gapminder))"
   ]
  },
  {
   "cell_type": "code",
   "execution_count": 12,
   "metadata": {},
   "outputs": [
    {
     "name": "stdout",
     "output_type": "stream",
     "text": [
      "'data.frame':\t10545 obs. of  9 variables:\n",
      " $ country         : Factor w/ 185 levels \"Albania\",\"Algeria\",..: 1 2 3 4 5 6 7 8 9 10 ...\n",
      " $ year            : int  1960 1960 1960 1960 1960 1960 1960 1960 1960 1960 ...\n",
      " $ infant_mortality: num  115.4 148.2 208 NA 59.9 ...\n",
      " $ life_expectancy : num  62.9 47.5 36 63 65.4 ...\n",
      " $ fertility       : num  6.19 7.65 7.32 4.43 3.11 4.55 4.82 3.45 2.7 5.57 ...\n",
      " $ population      : num  1636054 11124892 5270844 54681 20619075 ...\n",
      " $ gdp             : num  NA 1.38e+10 NA NA 1.08e+11 ...\n",
      " $ continent       : Factor w/ 5 levels \"Africa\",\"Americas\",..: 4 1 1 2 2 3 2 5 4 3 ...\n",
      " $ region          : Factor w/ 22 levels \"Australia and New Zealand\",..: 19 11 10 2 15 21 2 1 22 21 ...\n"
     ]
    }
   ],
   "source": [
    "# Structure of dataset\n",
    "str(gapminder)"
   ]
  },
  {
   "cell_type": "code",
   "execution_count": 14,
   "metadata": {},
   "outputs": [
    {
     "data": {
      "text/html": [
       "'factor'"
      ],
      "text/latex": [
       "'factor'"
      ],
      "text/markdown": [
       "'factor'"
      ],
      "text/plain": [
       "[1] \"factor\""
      ]
     },
     "metadata": {},
     "output_type": "display_data"
    }
   ],
   "source": [
    "# explore categorical variable - e.g. region, country, continent in this case\n",
    "class(gapminder$continent) # class tells you the type f variable. The type of categorical variable is factor"
   ]
  },
  {
   "cell_type": "code",
   "execution_count": 16,
   "metadata": {},
   "outputs": [
    {
     "data": {
      "text/html": [
       "<ol class=list-inline>\n",
       "\t<li>'Africa'</li>\n",
       "\t<li>'Americas'</li>\n",
       "\t<li>'Asia'</li>\n",
       "\t<li>'Europe'</li>\n",
       "\t<li>'Oceania'</li>\n",
       "</ol>\n"
      ],
      "text/latex": [
       "\\begin{enumerate*}\n",
       "\\item 'Africa'\n",
       "\\item 'Americas'\n",
       "\\item 'Asia'\n",
       "\\item 'Europe'\n",
       "\\item 'Oceania'\n",
       "\\end{enumerate*}\n"
      ],
      "text/markdown": [
       "1. 'Africa'\n",
       "2. 'Americas'\n",
       "3. 'Asia'\n",
       "4. 'Europe'\n",
       "5. 'Oceania'\n",
       "\n",
       "\n"
      ],
      "text/plain": [
       "[1] \"Africa\"   \"Americas\" \"Asia\"     \"Europe\"   \"Oceania\" "
      ]
     },
     "metadata": {},
     "output_type": "display_data"
    }
   ],
   "source": [
    "# different values in categorical variable\n",
    "levels(gapminder$continent)"
   ]
  },
  {
   "cell_type": "code",
   "execution_count": 17,
   "metadata": {},
   "outputs": [
    {
     "data": {
      "text/html": [
       "5"
      ],
      "text/latex": [
       "5"
      ],
      "text/markdown": [
       "5"
      ],
      "text/plain": [
       "[1] 5"
      ]
     },
     "metadata": {},
     "output_type": "display_data"
    }
   ],
   "source": [
    "# total number of different value in a categorical variable\n",
    "length(levels(gapminder$continent))  # so there are 5 different values"
   ]
  },
  {
   "cell_type": "code",
   "execution_count": 19,
   "metadata": {},
   "outputs": [
    {
     "data": {
      "text/html": [
       "<ol class=list-inline>\n",
       "\t<li>Europe</li>\n",
       "\t<li>Africa</li>\n",
       "</ol>\n",
       "\n",
       "<details>\n",
       "\t<summary style=display:list-item;cursor:pointer>\n",
       "\t\t<strong>Levels</strong>:\n",
       "\t</summary>\n",
       "\t<ol class=list-inline>\n",
       "\t\t<li>'Africa'</li>\n",
       "\t\t<li>'Americas'</li>\n",
       "\t\t<li>'Asia'</li>\n",
       "\t\t<li>'Europe'</li>\n",
       "\t\t<li>'Oceania'</li>\n",
       "\t</ol>\n",
       "</details>"
      ],
      "text/latex": [
       "\\begin{enumerate*}\n",
       "\\item Europe\n",
       "\\item Africa\n",
       "\\end{enumerate*}\n",
       "\n",
       "\\emph{Levels}: \\begin{enumerate*}\n",
       "\\item 'Africa'\n",
       "\\item 'Americas'\n",
       "\\item 'Asia'\n",
       "\\item 'Europe'\n",
       "\\item 'Oceania'\n",
       "\\end{enumerate*}\n"
      ],
      "text/markdown": [
       "1. Europe\n",
       "2. Africa\n",
       "\n",
       "\n",
       "\n",
       "**Levels**: 1. 'Africa'\n",
       "2. 'Americas'\n",
       "3. 'Asia'\n",
       "4. 'Europe'\n",
       "5. 'Oceania'\n",
       "\n",
       "\n"
      ],
      "text/plain": [
       "[1] Europe Africa\n",
       "Levels: Africa Americas Asia Europe Oceania"
      ]
     },
     "metadata": {},
     "output_type": "display_data"
    }
   ],
   "source": [
    "# Accessing Column\n",
    "gapminder$continent[1:2] # In R index starts from 1 unlike python."
   ]
  },
  {
   "cell_type": "code",
   "execution_count": 21,
   "metadata": {},
   "outputs": [
    {
     "data": {
      "text/html": [
       "<table>\n",
       "<thead><tr><th scope=col>country</th><th scope=col>continent</th><th scope=col>gdp</th></tr></thead>\n",
       "<tbody>\n",
       "\t<tr><td>Albania               </td><td>Europe                </td><td>          NA          </td></tr>\n",
       "\t<tr><td>Algeria               </td><td>Africa                </td><td> 13828152297          </td></tr>\n",
       "\t<tr><td>Angola                </td><td>Africa                </td><td>          NA          </td></tr>\n",
       "\t<tr><td>Antigua and Barbuda   </td><td>Americas              </td><td>          NA          </td></tr>\n",
       "\t<tr><td>Argentina             </td><td>Americas              </td><td>108322326649          </td></tr>\n",
       "\t<tr><td>Armenia               </td><td>Asia                  </td><td>          NA          </td></tr>\n",
       "\t<tr><td>Aruba                 </td><td>Americas              </td><td>          NA          </td></tr>\n",
       "\t<tr><td>Australia             </td><td>Oceania               </td><td> 96677859364          </td></tr>\n",
       "\t<tr><td>Austria               </td><td>Europe                </td><td> 52392699681          </td></tr>\n",
       "\t<tr><td>Azerbaijan            </td><td>Asia                  </td><td>          NA          </td></tr>\n",
       "\t<tr><td>Bahamas               </td><td>Americas              </td><td>  1306269490          </td></tr>\n",
       "\t<tr><td>Bahrain               </td><td>Asia                  </td><td>          NA          </td></tr>\n",
       "\t<tr><td>Bangladesh            </td><td>Asia                  </td><td> 12767231590          </td></tr>\n",
       "\t<tr><td>Barbados              </td><td>Americas              </td><td>   784120376          </td></tr>\n",
       "\t<tr><td>Belarus               </td><td>Europe                </td><td>          NA          </td></tr>\n",
       "\t<tr><td>Belgium               </td><td>Europe                </td><td> 68236665814          </td></tr>\n",
       "\t<tr><td>Belize                </td><td>Americas              </td><td>    86532304          </td></tr>\n",
       "\t<tr><td>Benin                 </td><td>Africa                </td><td>   621797131          </td></tr>\n",
       "\t<tr><td>Bhutan                </td><td>Asia                  </td><td>          NA          </td></tr>\n",
       "\t<tr><td>Bolivia               </td><td>Americas              </td><td>  3001815692          </td></tr>\n",
       "\t<tr><td>Bosnia and Herzegovina</td><td>Europe                </td><td>          NA          </td></tr>\n",
       "\t<tr><td>Botswana              </td><td>Africa                </td><td>   124460933          </td></tr>\n",
       "\t<tr><td>Brazil                </td><td>Americas              </td><td>105343379555          </td></tr>\n",
       "\t<tr><td>Brunei                </td><td>Asia                  </td><td>          NA          </td></tr>\n",
       "\t<tr><td>Bulgaria              </td><td>Europe                </td><td>          NA          </td></tr>\n",
       "\t<tr><td>Burkina Faso          </td><td>Africa                </td><td>   596612183          </td></tr>\n",
       "\t<tr><td>Burundi               </td><td>Africa                </td><td>   341126765          </td></tr>\n",
       "\t<tr><td>Cambodia              </td><td>Asia                  </td><td>          NA          </td></tr>\n",
       "\t<tr><td>Cameroon              </td><td>Africa                </td><td>  2537944080          </td></tr>\n",
       "\t<tr><td>Canada                </td><td>Americas              </td><td>167894860728          </td></tr>\n",
       "\t<tr><td>...</td><td>...</td><td>...</td></tr>\n",
       "\t<tr><td>Sudan               </td><td>Africa              </td><td>NA                  </td></tr>\n",
       "\t<tr><td>Suriname            </td><td>Americas            </td><td>NA                  </td></tr>\n",
       "\t<tr><td>Swaziland           </td><td>Africa              </td><td>NA                  </td></tr>\n",
       "\t<tr><td>Sweden              </td><td>Europe              </td><td>NA                  </td></tr>\n",
       "\t<tr><td>Switzerland         </td><td>Europe              </td><td>NA                  </td></tr>\n",
       "\t<tr><td>Syria               </td><td>Asia                </td><td>NA                  </td></tr>\n",
       "\t<tr><td>Tajikistan          </td><td>Asia                </td><td>NA                  </td></tr>\n",
       "\t<tr><td>Tanzania            </td><td>Africa              </td><td>NA                  </td></tr>\n",
       "\t<tr><td>Thailand            </td><td>Asia                </td><td>NA                  </td></tr>\n",
       "\t<tr><td>Timor-Leste         </td><td>Asia                </td><td>NA                  </td></tr>\n",
       "\t<tr><td>Togo                </td><td>Africa              </td><td>NA                  </td></tr>\n",
       "\t<tr><td>Tonga               </td><td>Oceania             </td><td>NA                  </td></tr>\n",
       "\t<tr><td>Trinidad and Tobago </td><td>Americas            </td><td>NA                  </td></tr>\n",
       "\t<tr><td>Tunisia             </td><td>Africa              </td><td>NA                  </td></tr>\n",
       "\t<tr><td>Turkey              </td><td>Asia                </td><td>NA                  </td></tr>\n",
       "\t<tr><td>Turkmenistan        </td><td>Asia                </td><td>NA                  </td></tr>\n",
       "\t<tr><td>Uganda              </td><td>Africa              </td><td>NA                  </td></tr>\n",
       "\t<tr><td>Ukraine             </td><td>Europe              </td><td>NA                  </td></tr>\n",
       "\t<tr><td>United Arab Emirates</td><td>Asia                </td><td>NA                  </td></tr>\n",
       "\t<tr><td>United Kingdom      </td><td>Europe              </td><td>NA                  </td></tr>\n",
       "\t<tr><td>United States       </td><td>Americas            </td><td>NA                  </td></tr>\n",
       "\t<tr><td>Uruguay             </td><td>Americas            </td><td>NA                  </td></tr>\n",
       "\t<tr><td>Uzbekistan          </td><td>Asia                </td><td>NA                  </td></tr>\n",
       "\t<tr><td>Vanuatu             </td><td>Oceania             </td><td>NA                  </td></tr>\n",
       "\t<tr><td>Venezuela           </td><td>Americas            </td><td>NA                  </td></tr>\n",
       "\t<tr><td>West Bank and Gaza  </td><td>Asia                </td><td>NA                  </td></tr>\n",
       "\t<tr><td>Vietnam             </td><td>Asia                </td><td>NA                  </td></tr>\n",
       "\t<tr><td>Yemen               </td><td>Asia                </td><td>NA                  </td></tr>\n",
       "\t<tr><td>Zambia              </td><td>Africa              </td><td>NA                  </td></tr>\n",
       "\t<tr><td>Zimbabwe            </td><td>Africa              </td><td>NA                  </td></tr>\n",
       "</tbody>\n",
       "</table>\n"
      ],
      "text/latex": [
       "\\begin{tabular}{r|lll}\n",
       " country & continent & gdp\\\\\n",
       "\\hline\n",
       "\t Albania                & Europe                 &           NA          \\\\\n",
       "\t Algeria                & Africa                 &  13828152297          \\\\\n",
       "\t Angola                 & Africa                 &           NA          \\\\\n",
       "\t Antigua and Barbuda    & Americas               &           NA          \\\\\n",
       "\t Argentina              & Americas               & 108322326649          \\\\\n",
       "\t Armenia                & Asia                   &           NA          \\\\\n",
       "\t Aruba                  & Americas               &           NA          \\\\\n",
       "\t Australia              & Oceania                &  96677859364          \\\\\n",
       "\t Austria                & Europe                 &  52392699681          \\\\\n",
       "\t Azerbaijan             & Asia                   &           NA          \\\\\n",
       "\t Bahamas                & Americas               &   1306269490          \\\\\n",
       "\t Bahrain                & Asia                   &           NA          \\\\\n",
       "\t Bangladesh             & Asia                   &  12767231590          \\\\\n",
       "\t Barbados               & Americas               &    784120376          \\\\\n",
       "\t Belarus                & Europe                 &           NA          \\\\\n",
       "\t Belgium                & Europe                 &  68236665814          \\\\\n",
       "\t Belize                 & Americas               &     86532304          \\\\\n",
       "\t Benin                  & Africa                 &    621797131          \\\\\n",
       "\t Bhutan                 & Asia                   &           NA          \\\\\n",
       "\t Bolivia                & Americas               &   3001815692          \\\\\n",
       "\t Bosnia and Herzegovina & Europe                 &           NA          \\\\\n",
       "\t Botswana               & Africa                 &    124460933          \\\\\n",
       "\t Brazil                 & Americas               & 105343379555          \\\\\n",
       "\t Brunei                 & Asia                   &           NA          \\\\\n",
       "\t Bulgaria               & Europe                 &           NA          \\\\\n",
       "\t Burkina Faso           & Africa                 &    596612183          \\\\\n",
       "\t Burundi                & Africa                 &    341126765          \\\\\n",
       "\t Cambodia               & Asia                   &           NA          \\\\\n",
       "\t Cameroon               & Africa                 &   2537944080          \\\\\n",
       "\t Canada                 & Americas               & 167894860728          \\\\\n",
       "\t ... & ... & ...\\\\\n",
       "\t Sudan                & Africa               & NA                  \\\\\n",
       "\t Suriname             & Americas             & NA                  \\\\\n",
       "\t Swaziland            & Africa               & NA                  \\\\\n",
       "\t Sweden               & Europe               & NA                  \\\\\n",
       "\t Switzerland          & Europe               & NA                  \\\\\n",
       "\t Syria                & Asia                 & NA                  \\\\\n",
       "\t Tajikistan           & Asia                 & NA                  \\\\\n",
       "\t Tanzania             & Africa               & NA                  \\\\\n",
       "\t Thailand             & Asia                 & NA                  \\\\\n",
       "\t Timor-Leste          & Asia                 & NA                  \\\\\n",
       "\t Togo                 & Africa               & NA                  \\\\\n",
       "\t Tonga                & Oceania              & NA                  \\\\\n",
       "\t Trinidad and Tobago  & Americas             & NA                  \\\\\n",
       "\t Tunisia              & Africa               & NA                  \\\\\n",
       "\t Turkey               & Asia                 & NA                  \\\\\n",
       "\t Turkmenistan         & Asia                 & NA                  \\\\\n",
       "\t Uganda               & Africa               & NA                  \\\\\n",
       "\t Ukraine              & Europe               & NA                  \\\\\n",
       "\t United Arab Emirates & Asia                 & NA                  \\\\\n",
       "\t United Kingdom       & Europe               & NA                  \\\\\n",
       "\t United States        & Americas             & NA                  \\\\\n",
       "\t Uruguay              & Americas             & NA                  \\\\\n",
       "\t Uzbekistan           & Asia                 & NA                  \\\\\n",
       "\t Vanuatu              & Oceania              & NA                  \\\\\n",
       "\t Venezuela            & Americas             & NA                  \\\\\n",
       "\t West Bank and Gaza   & Asia                 & NA                  \\\\\n",
       "\t Vietnam              & Asia                 & NA                  \\\\\n",
       "\t Yemen                & Asia                 & NA                  \\\\\n",
       "\t Zambia               & Africa               & NA                  \\\\\n",
       "\t Zimbabwe             & Africa               & NA                  \\\\\n",
       "\\end{tabular}\n"
      ],
      "text/markdown": [
       "\n",
       "| country | continent | gdp |\n",
       "|---|---|---|\n",
       "| Albania                | Europe                 |           NA           |\n",
       "| Algeria                | Africa                 |  13828152297           |\n",
       "| Angola                 | Africa                 |           NA           |\n",
       "| Antigua and Barbuda    | Americas               |           NA           |\n",
       "| Argentina              | Americas               | 108322326649           |\n",
       "| Armenia                | Asia                   |           NA           |\n",
       "| Aruba                  | Americas               |           NA           |\n",
       "| Australia              | Oceania                |  96677859364           |\n",
       "| Austria                | Europe                 |  52392699681           |\n",
       "| Azerbaijan             | Asia                   |           NA           |\n",
       "| Bahamas                | Americas               |   1306269490           |\n",
       "| Bahrain                | Asia                   |           NA           |\n",
       "| Bangladesh             | Asia                   |  12767231590           |\n",
       "| Barbados               | Americas               |    784120376           |\n",
       "| Belarus                | Europe                 |           NA           |\n",
       "| Belgium                | Europe                 |  68236665814           |\n",
       "| Belize                 | Americas               |     86532304           |\n",
       "| Benin                  | Africa                 |    621797131           |\n",
       "| Bhutan                 | Asia                   |           NA           |\n",
       "| Bolivia                | Americas               |   3001815692           |\n",
       "| Bosnia and Herzegovina | Europe                 |           NA           |\n",
       "| Botswana               | Africa                 |    124460933           |\n",
       "| Brazil                 | Americas               | 105343379555           |\n",
       "| Brunei                 | Asia                   |           NA           |\n",
       "| Bulgaria               | Europe                 |           NA           |\n",
       "| Burkina Faso           | Africa                 |    596612183           |\n",
       "| Burundi                | Africa                 |    341126765           |\n",
       "| Cambodia               | Asia                   |           NA           |\n",
       "| Cameroon               | Africa                 |   2537944080           |\n",
       "| Canada                 | Americas               | 167894860728           |\n",
       "| ... | ... | ... |\n",
       "| Sudan                | Africa               | NA                   |\n",
       "| Suriname             | Americas             | NA                   |\n",
       "| Swaziland            | Africa               | NA                   |\n",
       "| Sweden               | Europe               | NA                   |\n",
       "| Switzerland          | Europe               | NA                   |\n",
       "| Syria                | Asia                 | NA                   |\n",
       "| Tajikistan           | Asia                 | NA                   |\n",
       "| Tanzania             | Africa               | NA                   |\n",
       "| Thailand             | Asia                 | NA                   |\n",
       "| Timor-Leste          | Asia                 | NA                   |\n",
       "| Togo                 | Africa               | NA                   |\n",
       "| Tonga                | Oceania              | NA                   |\n",
       "| Trinidad and Tobago  | Americas             | NA                   |\n",
       "| Tunisia              | Africa               | NA                   |\n",
       "| Turkey               | Asia                 | NA                   |\n",
       "| Turkmenistan         | Asia                 | NA                   |\n",
       "| Uganda               | Africa               | NA                   |\n",
       "| Ukraine              | Europe               | NA                   |\n",
       "| United Arab Emirates | Asia                 | NA                   |\n",
       "| United Kingdom       | Europe               | NA                   |\n",
       "| United States        | Americas             | NA                   |\n",
       "| Uruguay              | Americas             | NA                   |\n",
       "| Uzbekistan           | Asia                 | NA                   |\n",
       "| Vanuatu              | Oceania              | NA                   |\n",
       "| Venezuela            | Americas             | NA                   |\n",
       "| West Bank and Gaza   | Asia                 | NA                   |\n",
       "| Vietnam              | Asia                 | NA                   |\n",
       "| Yemen                | Asia                 | NA                   |\n",
       "| Zambia               | Africa               | NA                   |\n",
       "| Zimbabwe             | Africa               | NA                   |\n",
       "\n"
      ],
      "text/plain": [
       "      country                continent gdp         \n",
       "1     Albania                Europe              NA\n",
       "2     Algeria                Africa     13828152297\n",
       "3     Angola                 Africa              NA\n",
       "4     Antigua and Barbuda    Americas            NA\n",
       "5     Argentina              Americas  108322326649\n",
       "6     Armenia                Asia                NA\n",
       "7     Aruba                  Americas            NA\n",
       "8     Australia              Oceania    96677859364\n",
       "9     Austria                Europe     52392699681\n",
       "10    Azerbaijan             Asia                NA\n",
       "11    Bahamas                Americas    1306269490\n",
       "12    Bahrain                Asia                NA\n",
       "13    Bangladesh             Asia       12767231590\n",
       "14    Barbados               Americas     784120376\n",
       "15    Belarus                Europe              NA\n",
       "16    Belgium                Europe     68236665814\n",
       "17    Belize                 Americas      86532304\n",
       "18    Benin                  Africa       621797131\n",
       "19    Bhutan                 Asia                NA\n",
       "20    Bolivia                Americas    3001815692\n",
       "21    Bosnia and Herzegovina Europe              NA\n",
       "22    Botswana               Africa       124460933\n",
       "23    Brazil                 Americas  105343379555\n",
       "24    Brunei                 Asia                NA\n",
       "25    Bulgaria               Europe              NA\n",
       "26    Burkina Faso           Africa       596612183\n",
       "27    Burundi                Africa       341126765\n",
       "28    Cambodia               Asia                NA\n",
       "29    Cameroon               Africa      2537944080\n",
       "30    Canada                 Americas  167894860728\n",
       "...   ...                    ...       ...         \n",
       "10516 Sudan                  Africa    NA          \n",
       "10517 Suriname               Americas  NA          \n",
       "10518 Swaziland              Africa    NA          \n",
       "10519 Sweden                 Europe    NA          \n",
       "10520 Switzerland            Europe    NA          \n",
       "10521 Syria                  Asia      NA          \n",
       "10522 Tajikistan             Asia      NA          \n",
       "10523 Tanzania               Africa    NA          \n",
       "10524 Thailand               Asia      NA          \n",
       "10525 Timor-Leste            Asia      NA          \n",
       "10526 Togo                   Africa    NA          \n",
       "10527 Tonga                  Oceania   NA          \n",
       "10528 Trinidad and Tobago    Americas  NA          \n",
       "10529 Tunisia                Africa    NA          \n",
       "10530 Turkey                 Asia      NA          \n",
       "10531 Turkmenistan           Asia      NA          \n",
       "10532 Uganda                 Africa    NA          \n",
       "10533 Ukraine                Europe    NA          \n",
       "10534 United Arab Emirates   Asia      NA          \n",
       "10535 United Kingdom         Europe    NA          \n",
       "10536 United States          Americas  NA          \n",
       "10537 Uruguay                Americas  NA          \n",
       "10538 Uzbekistan             Asia      NA          \n",
       "10539 Vanuatu                Oceania   NA          \n",
       "10540 Venezuela              Americas  NA          \n",
       "10541 West Bank and Gaza     Asia      NA          \n",
       "10542 Vietnam                Asia      NA          \n",
       "10543 Yemen                  Asia      NA          \n",
       "10544 Zambia                 Africa    NA          \n",
       "10545 Zimbabwe               Africa    NA          "
      ]
     },
     "metadata": {},
     "output_type": "display_data"
    }
   ],
   "source": [
    "# Accessing multiple columns - select function of dplyr library\n",
    "gapminder %>% select(c(\"country\", \"continent\", \"gdp\")) #it will select three columns"
   ]
  },
  {
   "cell_type": "code",
   "execution_count": 22,
   "metadata": {},
   "outputs": [
    {
     "data": {
      "text/html": [
       "<table>\n",
       "<thead><tr><th scope=col>country</th><th scope=col>year</th><th scope=col>infant_mortality</th></tr></thead>\n",
       "<tbody>\n",
       "\t<tr><td>Albania               </td><td>1960                  </td><td>115.40                </td></tr>\n",
       "\t<tr><td>Algeria               </td><td>1960                  </td><td>148.20                </td></tr>\n",
       "\t<tr><td>Angola                </td><td>1960                  </td><td>208.00                </td></tr>\n",
       "\t<tr><td>Antigua and Barbuda   </td><td>1960                  </td><td>    NA                </td></tr>\n",
       "\t<tr><td>Argentina             </td><td>1960                  </td><td> 59.87                </td></tr>\n",
       "\t<tr><td>Armenia               </td><td>1960                  </td><td>    NA                </td></tr>\n",
       "\t<tr><td>Aruba                 </td><td>1960                  </td><td>    NA                </td></tr>\n",
       "\t<tr><td>Australia             </td><td>1960                  </td><td> 20.30                </td></tr>\n",
       "\t<tr><td>Austria               </td><td>1960                  </td><td> 37.30                </td></tr>\n",
       "\t<tr><td>Azerbaijan            </td><td>1960                  </td><td>    NA                </td></tr>\n",
       "\t<tr><td>Bahamas               </td><td>1960                  </td><td> 51.00                </td></tr>\n",
       "\t<tr><td>Bahrain               </td><td>1960                  </td><td>134.50                </td></tr>\n",
       "\t<tr><td>Bangladesh            </td><td>1960                  </td><td>176.30                </td></tr>\n",
       "\t<tr><td>Barbados              </td><td>1960                  </td><td> 69.50                </td></tr>\n",
       "\t<tr><td>Belarus               </td><td>1960                  </td><td>    NA                </td></tr>\n",
       "\t<tr><td>Belgium               </td><td>1960                  </td><td> 29.50                </td></tr>\n",
       "\t<tr><td>Belize                </td><td>1960                  </td><td>    NA                </td></tr>\n",
       "\t<tr><td>Benin                 </td><td>1960                  </td><td>186.90                </td></tr>\n",
       "\t<tr><td>Bhutan                </td><td>1960                  </td><td>175.00                </td></tr>\n",
       "\t<tr><td>Bolivia               </td><td>1960                  </td><td>173.40                </td></tr>\n",
       "\t<tr><td>Bosnia and Herzegovina</td><td>1960                  </td><td>105.00                </td></tr>\n",
       "\t<tr><td>Botswana              </td><td>1960                  </td><td>115.50                </td></tr>\n",
       "\t<tr><td>Brazil                </td><td>1960                  </td><td>129.40                </td></tr>\n",
       "\t<tr><td>Brunei                </td><td>1960                  </td><td> 63.00                </td></tr>\n",
       "\t<tr><td>Bulgaria              </td><td>1960                  </td><td> 49.00                </td></tr>\n",
       "\t<tr><td>Burkina Faso          </td><td>1960                  </td><td>161.30                </td></tr>\n",
       "\t<tr><td>Burundi               </td><td>1960                  </td><td>145.10                </td></tr>\n",
       "\t<tr><td>Cambodia              </td><td>1960                  </td><td>    NA                </td></tr>\n",
       "\t<tr><td>Cameroon              </td><td>1960                  </td><td>166.90                </td></tr>\n",
       "\t<tr><td>Canada                </td><td>1960                  </td><td> 27.80                </td></tr>\n",
       "\t<tr><td>...</td><td>...</td><td>...</td></tr>\n",
       "\t<tr><td>Sudan               </td><td>2016                </td><td>NA                  </td></tr>\n",
       "\t<tr><td>Suriname            </td><td>2016                </td><td>NA                  </td></tr>\n",
       "\t<tr><td>Swaziland           </td><td>2016                </td><td>NA                  </td></tr>\n",
       "\t<tr><td>Sweden              </td><td>2016                </td><td>NA                  </td></tr>\n",
       "\t<tr><td>Switzerland         </td><td>2016                </td><td>NA                  </td></tr>\n",
       "\t<tr><td>Syria               </td><td>2016                </td><td>NA                  </td></tr>\n",
       "\t<tr><td>Tajikistan          </td><td>2016                </td><td>NA                  </td></tr>\n",
       "\t<tr><td>Tanzania            </td><td>2016                </td><td>NA                  </td></tr>\n",
       "\t<tr><td>Thailand            </td><td>2016                </td><td>NA                  </td></tr>\n",
       "\t<tr><td>Timor-Leste         </td><td>2016                </td><td>NA                  </td></tr>\n",
       "\t<tr><td>Togo                </td><td>2016                </td><td>NA                  </td></tr>\n",
       "\t<tr><td>Tonga               </td><td>2016                </td><td>NA                  </td></tr>\n",
       "\t<tr><td>Trinidad and Tobago </td><td>2016                </td><td>NA                  </td></tr>\n",
       "\t<tr><td>Tunisia             </td><td>2016                </td><td>NA                  </td></tr>\n",
       "\t<tr><td>Turkey              </td><td>2016                </td><td>NA                  </td></tr>\n",
       "\t<tr><td>Turkmenistan        </td><td>2016                </td><td>NA                  </td></tr>\n",
       "\t<tr><td>Uganda              </td><td>2016                </td><td>NA                  </td></tr>\n",
       "\t<tr><td>Ukraine             </td><td>2016                </td><td>NA                  </td></tr>\n",
       "\t<tr><td>United Arab Emirates</td><td>2016                </td><td>NA                  </td></tr>\n",
       "\t<tr><td>United Kingdom      </td><td>2016                </td><td>NA                  </td></tr>\n",
       "\t<tr><td>United States       </td><td>2016                </td><td>NA                  </td></tr>\n",
       "\t<tr><td>Uruguay             </td><td>2016                </td><td>NA                  </td></tr>\n",
       "\t<tr><td>Uzbekistan          </td><td>2016                </td><td>NA                  </td></tr>\n",
       "\t<tr><td>Vanuatu             </td><td>2016                </td><td>NA                  </td></tr>\n",
       "\t<tr><td>Venezuela           </td><td>2016                </td><td>NA                  </td></tr>\n",
       "\t<tr><td>West Bank and Gaza  </td><td>2016                </td><td>NA                  </td></tr>\n",
       "\t<tr><td>Vietnam             </td><td>2016                </td><td>NA                  </td></tr>\n",
       "\t<tr><td>Yemen               </td><td>2016                </td><td>NA                  </td></tr>\n",
       "\t<tr><td>Zambia              </td><td>2016                </td><td>NA                  </td></tr>\n",
       "\t<tr><td>Zimbabwe            </td><td>2016                </td><td>NA                  </td></tr>\n",
       "</tbody>\n",
       "</table>\n"
      ],
      "text/latex": [
       "\\begin{tabular}{r|lll}\n",
       " country & year & infant\\_mortality\\\\\n",
       "\\hline\n",
       "\t Albania                & 1960                   & 115.40                \\\\\n",
       "\t Algeria                & 1960                   & 148.20                \\\\\n",
       "\t Angola                 & 1960                   & 208.00                \\\\\n",
       "\t Antigua and Barbuda    & 1960                   &     NA                \\\\\n",
       "\t Argentina              & 1960                   &  59.87                \\\\\n",
       "\t Armenia                & 1960                   &     NA                \\\\\n",
       "\t Aruba                  & 1960                   &     NA                \\\\\n",
       "\t Australia              & 1960                   &  20.30                \\\\\n",
       "\t Austria                & 1960                   &  37.30                \\\\\n",
       "\t Azerbaijan             & 1960                   &     NA                \\\\\n",
       "\t Bahamas                & 1960                   &  51.00                \\\\\n",
       "\t Bahrain                & 1960                   & 134.50                \\\\\n",
       "\t Bangladesh             & 1960                   & 176.30                \\\\\n",
       "\t Barbados               & 1960                   &  69.50                \\\\\n",
       "\t Belarus                & 1960                   &     NA                \\\\\n",
       "\t Belgium                & 1960                   &  29.50                \\\\\n",
       "\t Belize                 & 1960                   &     NA                \\\\\n",
       "\t Benin                  & 1960                   & 186.90                \\\\\n",
       "\t Bhutan                 & 1960                   & 175.00                \\\\\n",
       "\t Bolivia                & 1960                   & 173.40                \\\\\n",
       "\t Bosnia and Herzegovina & 1960                   & 105.00                \\\\\n",
       "\t Botswana               & 1960                   & 115.50                \\\\\n",
       "\t Brazil                 & 1960                   & 129.40                \\\\\n",
       "\t Brunei                 & 1960                   &  63.00                \\\\\n",
       "\t Bulgaria               & 1960                   &  49.00                \\\\\n",
       "\t Burkina Faso           & 1960                   & 161.30                \\\\\n",
       "\t Burundi                & 1960                   & 145.10                \\\\\n",
       "\t Cambodia               & 1960                   &     NA                \\\\\n",
       "\t Cameroon               & 1960                   & 166.90                \\\\\n",
       "\t Canada                 & 1960                   &  27.80                \\\\\n",
       "\t ... & ... & ...\\\\\n",
       "\t Sudan                & 2016                 & NA                  \\\\\n",
       "\t Suriname             & 2016                 & NA                  \\\\\n",
       "\t Swaziland            & 2016                 & NA                  \\\\\n",
       "\t Sweden               & 2016                 & NA                  \\\\\n",
       "\t Switzerland          & 2016                 & NA                  \\\\\n",
       "\t Syria                & 2016                 & NA                  \\\\\n",
       "\t Tajikistan           & 2016                 & NA                  \\\\\n",
       "\t Tanzania             & 2016                 & NA                  \\\\\n",
       "\t Thailand             & 2016                 & NA                  \\\\\n",
       "\t Timor-Leste          & 2016                 & NA                  \\\\\n",
       "\t Togo                 & 2016                 & NA                  \\\\\n",
       "\t Tonga                & 2016                 & NA                  \\\\\n",
       "\t Trinidad and Tobago  & 2016                 & NA                  \\\\\n",
       "\t Tunisia              & 2016                 & NA                  \\\\\n",
       "\t Turkey               & 2016                 & NA                  \\\\\n",
       "\t Turkmenistan         & 2016                 & NA                  \\\\\n",
       "\t Uganda               & 2016                 & NA                  \\\\\n",
       "\t Ukraine              & 2016                 & NA                  \\\\\n",
       "\t United Arab Emirates & 2016                 & NA                  \\\\\n",
       "\t United Kingdom       & 2016                 & NA                  \\\\\n",
       "\t United States        & 2016                 & NA                  \\\\\n",
       "\t Uruguay              & 2016                 & NA                  \\\\\n",
       "\t Uzbekistan           & 2016                 & NA                  \\\\\n",
       "\t Vanuatu              & 2016                 & NA                  \\\\\n",
       "\t Venezuela            & 2016                 & NA                  \\\\\n",
       "\t West Bank and Gaza   & 2016                 & NA                  \\\\\n",
       "\t Vietnam              & 2016                 & NA                  \\\\\n",
       "\t Yemen                & 2016                 & NA                  \\\\\n",
       "\t Zambia               & 2016                 & NA                  \\\\\n",
       "\t Zimbabwe             & 2016                 & NA                  \\\\\n",
       "\\end{tabular}\n"
      ],
      "text/markdown": [
       "\n",
       "| country | year | infant_mortality |\n",
       "|---|---|---|\n",
       "| Albania                | 1960                   | 115.40                 |\n",
       "| Algeria                | 1960                   | 148.20                 |\n",
       "| Angola                 | 1960                   | 208.00                 |\n",
       "| Antigua and Barbuda    | 1960                   |     NA                 |\n",
       "| Argentina              | 1960                   |  59.87                 |\n",
       "| Armenia                | 1960                   |     NA                 |\n",
       "| Aruba                  | 1960                   |     NA                 |\n",
       "| Australia              | 1960                   |  20.30                 |\n",
       "| Austria                | 1960                   |  37.30                 |\n",
       "| Azerbaijan             | 1960                   |     NA                 |\n",
       "| Bahamas                | 1960                   |  51.00                 |\n",
       "| Bahrain                | 1960                   | 134.50                 |\n",
       "| Bangladesh             | 1960                   | 176.30                 |\n",
       "| Barbados               | 1960                   |  69.50                 |\n",
       "| Belarus                | 1960                   |     NA                 |\n",
       "| Belgium                | 1960                   |  29.50                 |\n",
       "| Belize                 | 1960                   |     NA                 |\n",
       "| Benin                  | 1960                   | 186.90                 |\n",
       "| Bhutan                 | 1960                   | 175.00                 |\n",
       "| Bolivia                | 1960                   | 173.40                 |\n",
       "| Bosnia and Herzegovina | 1960                   | 105.00                 |\n",
       "| Botswana               | 1960                   | 115.50                 |\n",
       "| Brazil                 | 1960                   | 129.40                 |\n",
       "| Brunei                 | 1960                   |  63.00                 |\n",
       "| Bulgaria               | 1960                   |  49.00                 |\n",
       "| Burkina Faso           | 1960                   | 161.30                 |\n",
       "| Burundi                | 1960                   | 145.10                 |\n",
       "| Cambodia               | 1960                   |     NA                 |\n",
       "| Cameroon               | 1960                   | 166.90                 |\n",
       "| Canada                 | 1960                   |  27.80                 |\n",
       "| ... | ... | ... |\n",
       "| Sudan                | 2016                 | NA                   |\n",
       "| Suriname             | 2016                 | NA                   |\n",
       "| Swaziland            | 2016                 | NA                   |\n",
       "| Sweden               | 2016                 | NA                   |\n",
       "| Switzerland          | 2016                 | NA                   |\n",
       "| Syria                | 2016                 | NA                   |\n",
       "| Tajikistan           | 2016                 | NA                   |\n",
       "| Tanzania             | 2016                 | NA                   |\n",
       "| Thailand             | 2016                 | NA                   |\n",
       "| Timor-Leste          | 2016                 | NA                   |\n",
       "| Togo                 | 2016                 | NA                   |\n",
       "| Tonga                | 2016                 | NA                   |\n",
       "| Trinidad and Tobago  | 2016                 | NA                   |\n",
       "| Tunisia              | 2016                 | NA                   |\n",
       "| Turkey               | 2016                 | NA                   |\n",
       "| Turkmenistan         | 2016                 | NA                   |\n",
       "| Uganda               | 2016                 | NA                   |\n",
       "| Ukraine              | 2016                 | NA                   |\n",
       "| United Arab Emirates | 2016                 | NA                   |\n",
       "| United Kingdom       | 2016                 | NA                   |\n",
       "| United States        | 2016                 | NA                   |\n",
       "| Uruguay              | 2016                 | NA                   |\n",
       "| Uzbekistan           | 2016                 | NA                   |\n",
       "| Vanuatu              | 2016                 | NA                   |\n",
       "| Venezuela            | 2016                 | NA                   |\n",
       "| West Bank and Gaza   | 2016                 | NA                   |\n",
       "| Vietnam              | 2016                 | NA                   |\n",
       "| Yemen                | 2016                 | NA                   |\n",
       "| Zambia               | 2016                 | NA                   |\n",
       "| Zimbabwe             | 2016                 | NA                   |\n",
       "\n"
      ],
      "text/plain": [
       "      country                year infant_mortality\n",
       "1     Albania                1960 115.40          \n",
       "2     Algeria                1960 148.20          \n",
       "3     Angola                 1960 208.00          \n",
       "4     Antigua and Barbuda    1960     NA          \n",
       "5     Argentina              1960  59.87          \n",
       "6     Armenia                1960     NA          \n",
       "7     Aruba                  1960     NA          \n",
       "8     Australia              1960  20.30          \n",
       "9     Austria                1960  37.30          \n",
       "10    Azerbaijan             1960     NA          \n",
       "11    Bahamas                1960  51.00          \n",
       "12    Bahrain                1960 134.50          \n",
       "13    Bangladesh             1960 176.30          \n",
       "14    Barbados               1960  69.50          \n",
       "15    Belarus                1960     NA          \n",
       "16    Belgium                1960  29.50          \n",
       "17    Belize                 1960     NA          \n",
       "18    Benin                  1960 186.90          \n",
       "19    Bhutan                 1960 175.00          \n",
       "20    Bolivia                1960 173.40          \n",
       "21    Bosnia and Herzegovina 1960 105.00          \n",
       "22    Botswana               1960 115.50          \n",
       "23    Brazil                 1960 129.40          \n",
       "24    Brunei                 1960  63.00          \n",
       "25    Bulgaria               1960  49.00          \n",
       "26    Burkina Faso           1960 161.30          \n",
       "27    Burundi                1960 145.10          \n",
       "28    Cambodia               1960     NA          \n",
       "29    Cameroon               1960 166.90          \n",
       "30    Canada                 1960  27.80          \n",
       "...   ...                    ...  ...             \n",
       "10516 Sudan                  2016 NA              \n",
       "10517 Suriname               2016 NA              \n",
       "10518 Swaziland              2016 NA              \n",
       "10519 Sweden                 2016 NA              \n",
       "10520 Switzerland            2016 NA              \n",
       "10521 Syria                  2016 NA              \n",
       "10522 Tajikistan             2016 NA              \n",
       "10523 Tanzania               2016 NA              \n",
       "10524 Thailand               2016 NA              \n",
       "10525 Timor-Leste            2016 NA              \n",
       "10526 Togo                   2016 NA              \n",
       "10527 Tonga                  2016 NA              \n",
       "10528 Trinidad and Tobago    2016 NA              \n",
       "10529 Tunisia                2016 NA              \n",
       "10530 Turkey                 2016 NA              \n",
       "10531 Turkmenistan           2016 NA              \n",
       "10532 Uganda                 2016 NA              \n",
       "10533 Ukraine                2016 NA              \n",
       "10534 United Arab Emirates   2016 NA              \n",
       "10535 United Kingdom         2016 NA              \n",
       "10536 United States          2016 NA              \n",
       "10537 Uruguay                2016 NA              \n",
       "10538 Uzbekistan             2016 NA              \n",
       "10539 Vanuatu                2016 NA              \n",
       "10540 Venezuela              2016 NA              \n",
       "10541 West Bank and Gaza     2016 NA              \n",
       "10542 Vietnam                2016 NA              \n",
       "10543 Yemen                  2016 NA              \n",
       "10544 Zambia                 2016 NA              \n",
       "10545 Zimbabwe               2016 NA              "
      ]
     },
     "metadata": {},
     "output_type": "display_data"
    }
   ],
   "source": [
    "# you can access column by index also\n",
    "gapminder %>% select(c(1, 2, 3))"
   ]
  },
  {
   "cell_type": "code",
   "execution_count": 23,
   "metadata": {},
   "outputs": [
    {
     "data": {
      "text/html": [
       "<table>\n",
       "<thead><tr><th scope=col>country</th><th scope=col>year</th><th scope=col>infant_mortality</th><th scope=col>life_expectancy</th></tr></thead>\n",
       "<tbody>\n",
       "\t<tr><td>Albania               </td><td>1960                  </td><td>115.40                </td><td>62.87                 </td></tr>\n",
       "\t<tr><td>Algeria               </td><td>1960                  </td><td>148.20                </td><td>47.50                 </td></tr>\n",
       "\t<tr><td>Angola                </td><td>1960                  </td><td>208.00                </td><td>35.98                 </td></tr>\n",
       "\t<tr><td>Antigua and Barbuda   </td><td>1960                  </td><td>    NA                </td><td>62.97                 </td></tr>\n",
       "\t<tr><td>Argentina             </td><td>1960                  </td><td> 59.87                </td><td>65.39                 </td></tr>\n",
       "\t<tr><td>Armenia               </td><td>1960                  </td><td>    NA                </td><td>66.86                 </td></tr>\n",
       "\t<tr><td>Aruba                 </td><td>1960                  </td><td>    NA                </td><td>65.66                 </td></tr>\n",
       "\t<tr><td>Australia             </td><td>1960                  </td><td> 20.30                </td><td>70.87                 </td></tr>\n",
       "\t<tr><td>Austria               </td><td>1960                  </td><td> 37.30                </td><td>68.75                 </td></tr>\n",
       "\t<tr><td>Azerbaijan            </td><td>1960                  </td><td>    NA                </td><td>61.33                 </td></tr>\n",
       "\t<tr><td>Bahamas               </td><td>1960                  </td><td> 51.00                </td><td>62.00                 </td></tr>\n",
       "\t<tr><td>Bahrain               </td><td>1960                  </td><td>134.50                </td><td>51.64                 </td></tr>\n",
       "\t<tr><td>Bangladesh            </td><td>1960                  </td><td>176.30                </td><td>46.20                 </td></tr>\n",
       "\t<tr><td>Barbados              </td><td>1960                  </td><td> 69.50                </td><td>61.80                 </td></tr>\n",
       "\t<tr><td>Belarus               </td><td>1960                  </td><td>    NA                </td><td>71.59                 </td></tr>\n",
       "\t<tr><td>Belgium               </td><td>1960                  </td><td> 29.50                </td><td>69.59                 </td></tr>\n",
       "\t<tr><td>Belize                </td><td>1960                  </td><td>    NA                </td><td>60.08                 </td></tr>\n",
       "\t<tr><td>Benin                 </td><td>1960                  </td><td>186.90                </td><td>38.29                 </td></tr>\n",
       "\t<tr><td>Bhutan                </td><td>1960                  </td><td>175.00                </td><td>35.94                 </td></tr>\n",
       "\t<tr><td>Bolivia               </td><td>1960                  </td><td>173.40                </td><td>43.77                 </td></tr>\n",
       "\t<tr><td>Bosnia and Herzegovina</td><td>1960                  </td><td>105.00                </td><td>62.56                 </td></tr>\n",
       "\t<tr><td>Botswana              </td><td>1960                  </td><td>115.50                </td><td>50.34                 </td></tr>\n",
       "\t<tr><td>Brazil                </td><td>1960                  </td><td>129.40                </td><td>55.27                 </td></tr>\n",
       "\t<tr><td>Brunei                </td><td>1960                  </td><td> 63.00                </td><td>62.52                 </td></tr>\n",
       "\t<tr><td>Bulgaria              </td><td>1960                  </td><td> 49.00                </td><td>69.22                 </td></tr>\n",
       "\t<tr><td>Burkina Faso          </td><td>1960                  </td><td>161.30                </td><td>35.21                 </td></tr>\n",
       "\t<tr><td>Burundi               </td><td>1960                  </td><td>145.10                </td><td>40.58                 </td></tr>\n",
       "\t<tr><td>Cambodia              </td><td>1960                  </td><td>    NA                </td><td>42.29                 </td></tr>\n",
       "\t<tr><td>Cameroon              </td><td>1960                  </td><td>166.90                </td><td>43.46                 </td></tr>\n",
       "\t<tr><td>Canada                </td><td>1960                  </td><td> 27.80                </td><td>71.00                 </td></tr>\n",
       "\t<tr><td>...</td><td>...</td><td>...</td><td>...</td></tr>\n",
       "\t<tr><td>Sudan               </td><td>2016                </td><td>NA                  </td><td>67.80               </td></tr>\n",
       "\t<tr><td>Suriname            </td><td>2016                </td><td>NA                  </td><td>72.20               </td></tr>\n",
       "\t<tr><td>Swaziland           </td><td>2016                </td><td>NA                  </td><td>53.88               </td></tr>\n",
       "\t<tr><td>Sweden              </td><td>2016                </td><td>NA                  </td><td>82.10               </td></tr>\n",
       "\t<tr><td>Switzerland         </td><td>2016                </td><td>NA                  </td><td>83.10               </td></tr>\n",
       "\t<tr><td>Syria               </td><td>2016                </td><td>NA                  </td><td>69.21               </td></tr>\n",
       "\t<tr><td>Tajikistan          </td><td>2016                </td><td>NA                  </td><td>72.90               </td></tr>\n",
       "\t<tr><td>Tanzania            </td><td>2016                </td><td>NA                  </td><td>64.91               </td></tr>\n",
       "\t<tr><td>Thailand            </td><td>2016                </td><td>NA                  </td><td>74.80               </td></tr>\n",
       "\t<tr><td>Timor-Leste         </td><td>2016                </td><td>NA                  </td><td>72.50               </td></tr>\n",
       "\t<tr><td>Togo                </td><td>2016                </td><td>NA                  </td><td>61.90               </td></tr>\n",
       "\t<tr><td>Tonga               </td><td>2016                </td><td>NA                  </td><td>71.70               </td></tr>\n",
       "\t<tr><td>Trinidad and Tobago </td><td>2016                </td><td>NA                  </td><td>72.50               </td></tr>\n",
       "\t<tr><td>Tunisia             </td><td>2016                </td><td>NA                  </td><td>77.60               </td></tr>\n",
       "\t<tr><td>Turkey              </td><td>2016                </td><td>NA                  </td><td>79.30               </td></tr>\n",
       "\t<tr><td>Turkmenistan        </td><td>2016                </td><td>NA                  </td><td>70.40               </td></tr>\n",
       "\t<tr><td>Uganda              </td><td>2016                </td><td>NA                  </td><td>61.91               </td></tr>\n",
       "\t<tr><td>Ukraine             </td><td>2016                </td><td>NA                  </td><td>71.70               </td></tr>\n",
       "\t<tr><td>United Arab Emirates</td><td>2016                </td><td>NA                  </td><td>75.40               </td></tr>\n",
       "\t<tr><td>United Kingdom      </td><td>2016                </td><td>NA                  </td><td>81.10               </td></tr>\n",
       "\t<tr><td>United States       </td><td>2016                </td><td>NA                  </td><td>79.10               </td></tr>\n",
       "\t<tr><td>Uruguay             </td><td>2016                </td><td>NA                  </td><td>77.00               </td></tr>\n",
       "\t<tr><td>Uzbekistan          </td><td>2016                </td><td>NA                  </td><td>72.10               </td></tr>\n",
       "\t<tr><td>Vanuatu             </td><td>2016                </td><td>NA                  </td><td>65.10               </td></tr>\n",
       "\t<tr><td>Venezuela           </td><td>2016                </td><td>NA                  </td><td>74.80               </td></tr>\n",
       "\t<tr><td>West Bank and Gaza  </td><td>2016                </td><td>NA                  </td><td>74.70               </td></tr>\n",
       "\t<tr><td>Vietnam             </td><td>2016                </td><td>NA                  </td><td>75.60               </td></tr>\n",
       "\t<tr><td>Yemen               </td><td>2016                </td><td>NA                  </td><td>64.92               </td></tr>\n",
       "\t<tr><td>Zambia              </td><td>2016                </td><td>NA                  </td><td>57.10               </td></tr>\n",
       "\t<tr><td>Zimbabwe            </td><td>2016                </td><td>NA                  </td><td>61.69               </td></tr>\n",
       "</tbody>\n",
       "</table>\n"
      ],
      "text/latex": [
       "\\begin{tabular}{r|llll}\n",
       " country & year & infant\\_mortality & life\\_expectancy\\\\\n",
       "\\hline\n",
       "\t Albania                & 1960                   & 115.40                 & 62.87                 \\\\\n",
       "\t Algeria                & 1960                   & 148.20                 & 47.50                 \\\\\n",
       "\t Angola                 & 1960                   & 208.00                 & 35.98                 \\\\\n",
       "\t Antigua and Barbuda    & 1960                   &     NA                 & 62.97                 \\\\\n",
       "\t Argentina              & 1960                   &  59.87                 & 65.39                 \\\\\n",
       "\t Armenia                & 1960                   &     NA                 & 66.86                 \\\\\n",
       "\t Aruba                  & 1960                   &     NA                 & 65.66                 \\\\\n",
       "\t Australia              & 1960                   &  20.30                 & 70.87                 \\\\\n",
       "\t Austria                & 1960                   &  37.30                 & 68.75                 \\\\\n",
       "\t Azerbaijan             & 1960                   &     NA                 & 61.33                 \\\\\n",
       "\t Bahamas                & 1960                   &  51.00                 & 62.00                 \\\\\n",
       "\t Bahrain                & 1960                   & 134.50                 & 51.64                 \\\\\n",
       "\t Bangladesh             & 1960                   & 176.30                 & 46.20                 \\\\\n",
       "\t Barbados               & 1960                   &  69.50                 & 61.80                 \\\\\n",
       "\t Belarus                & 1960                   &     NA                 & 71.59                 \\\\\n",
       "\t Belgium                & 1960                   &  29.50                 & 69.59                 \\\\\n",
       "\t Belize                 & 1960                   &     NA                 & 60.08                 \\\\\n",
       "\t Benin                  & 1960                   & 186.90                 & 38.29                 \\\\\n",
       "\t Bhutan                 & 1960                   & 175.00                 & 35.94                 \\\\\n",
       "\t Bolivia                & 1960                   & 173.40                 & 43.77                 \\\\\n",
       "\t Bosnia and Herzegovina & 1960                   & 105.00                 & 62.56                 \\\\\n",
       "\t Botswana               & 1960                   & 115.50                 & 50.34                 \\\\\n",
       "\t Brazil                 & 1960                   & 129.40                 & 55.27                 \\\\\n",
       "\t Brunei                 & 1960                   &  63.00                 & 62.52                 \\\\\n",
       "\t Bulgaria               & 1960                   &  49.00                 & 69.22                 \\\\\n",
       "\t Burkina Faso           & 1960                   & 161.30                 & 35.21                 \\\\\n",
       "\t Burundi                & 1960                   & 145.10                 & 40.58                 \\\\\n",
       "\t Cambodia               & 1960                   &     NA                 & 42.29                 \\\\\n",
       "\t Cameroon               & 1960                   & 166.90                 & 43.46                 \\\\\n",
       "\t Canada                 & 1960                   &  27.80                 & 71.00                 \\\\\n",
       "\t ... & ... & ... & ...\\\\\n",
       "\t Sudan                & 2016                 & NA                   & 67.80               \\\\\n",
       "\t Suriname             & 2016                 & NA                   & 72.20               \\\\\n",
       "\t Swaziland            & 2016                 & NA                   & 53.88               \\\\\n",
       "\t Sweden               & 2016                 & NA                   & 82.10               \\\\\n",
       "\t Switzerland          & 2016                 & NA                   & 83.10               \\\\\n",
       "\t Syria                & 2016                 & NA                   & 69.21               \\\\\n",
       "\t Tajikistan           & 2016                 & NA                   & 72.90               \\\\\n",
       "\t Tanzania             & 2016                 & NA                   & 64.91               \\\\\n",
       "\t Thailand             & 2016                 & NA                   & 74.80               \\\\\n",
       "\t Timor-Leste          & 2016                 & NA                   & 72.50               \\\\\n",
       "\t Togo                 & 2016                 & NA                   & 61.90               \\\\\n",
       "\t Tonga                & 2016                 & NA                   & 71.70               \\\\\n",
       "\t Trinidad and Tobago  & 2016                 & NA                   & 72.50               \\\\\n",
       "\t Tunisia              & 2016                 & NA                   & 77.60               \\\\\n",
       "\t Turkey               & 2016                 & NA                   & 79.30               \\\\\n",
       "\t Turkmenistan         & 2016                 & NA                   & 70.40               \\\\\n",
       "\t Uganda               & 2016                 & NA                   & 61.91               \\\\\n",
       "\t Ukraine              & 2016                 & NA                   & 71.70               \\\\\n",
       "\t United Arab Emirates & 2016                 & NA                   & 75.40               \\\\\n",
       "\t United Kingdom       & 2016                 & NA                   & 81.10               \\\\\n",
       "\t United States        & 2016                 & NA                   & 79.10               \\\\\n",
       "\t Uruguay              & 2016                 & NA                   & 77.00               \\\\\n",
       "\t Uzbekistan           & 2016                 & NA                   & 72.10               \\\\\n",
       "\t Vanuatu              & 2016                 & NA                   & 65.10               \\\\\n",
       "\t Venezuela            & 2016                 & NA                   & 74.80               \\\\\n",
       "\t West Bank and Gaza   & 2016                 & NA                   & 74.70               \\\\\n",
       "\t Vietnam              & 2016                 & NA                   & 75.60               \\\\\n",
       "\t Yemen                & 2016                 & NA                   & 64.92               \\\\\n",
       "\t Zambia               & 2016                 & NA                   & 57.10               \\\\\n",
       "\t Zimbabwe             & 2016                 & NA                   & 61.69               \\\\\n",
       "\\end{tabular}\n"
      ],
      "text/markdown": [
       "\n",
       "| country | year | infant_mortality | life_expectancy |\n",
       "|---|---|---|---|\n",
       "| Albania                | 1960                   | 115.40                 | 62.87                  |\n",
       "| Algeria                | 1960                   | 148.20                 | 47.50                  |\n",
       "| Angola                 | 1960                   | 208.00                 | 35.98                  |\n",
       "| Antigua and Barbuda    | 1960                   |     NA                 | 62.97                  |\n",
       "| Argentina              | 1960                   |  59.87                 | 65.39                  |\n",
       "| Armenia                | 1960                   |     NA                 | 66.86                  |\n",
       "| Aruba                  | 1960                   |     NA                 | 65.66                  |\n",
       "| Australia              | 1960                   |  20.30                 | 70.87                  |\n",
       "| Austria                | 1960                   |  37.30                 | 68.75                  |\n",
       "| Azerbaijan             | 1960                   |     NA                 | 61.33                  |\n",
       "| Bahamas                | 1960                   |  51.00                 | 62.00                  |\n",
       "| Bahrain                | 1960                   | 134.50                 | 51.64                  |\n",
       "| Bangladesh             | 1960                   | 176.30                 | 46.20                  |\n",
       "| Barbados               | 1960                   |  69.50                 | 61.80                  |\n",
       "| Belarus                | 1960                   |     NA                 | 71.59                  |\n",
       "| Belgium                | 1960                   |  29.50                 | 69.59                  |\n",
       "| Belize                 | 1960                   |     NA                 | 60.08                  |\n",
       "| Benin                  | 1960                   | 186.90                 | 38.29                  |\n",
       "| Bhutan                 | 1960                   | 175.00                 | 35.94                  |\n",
       "| Bolivia                | 1960                   | 173.40                 | 43.77                  |\n",
       "| Bosnia and Herzegovina | 1960                   | 105.00                 | 62.56                  |\n",
       "| Botswana               | 1960                   | 115.50                 | 50.34                  |\n",
       "| Brazil                 | 1960                   | 129.40                 | 55.27                  |\n",
       "| Brunei                 | 1960                   |  63.00                 | 62.52                  |\n",
       "| Bulgaria               | 1960                   |  49.00                 | 69.22                  |\n",
       "| Burkina Faso           | 1960                   | 161.30                 | 35.21                  |\n",
       "| Burundi                | 1960                   | 145.10                 | 40.58                  |\n",
       "| Cambodia               | 1960                   |     NA                 | 42.29                  |\n",
       "| Cameroon               | 1960                   | 166.90                 | 43.46                  |\n",
       "| Canada                 | 1960                   |  27.80                 | 71.00                  |\n",
       "| ... | ... | ... | ... |\n",
       "| Sudan                | 2016                 | NA                   | 67.80                |\n",
       "| Suriname             | 2016                 | NA                   | 72.20                |\n",
       "| Swaziland            | 2016                 | NA                   | 53.88                |\n",
       "| Sweden               | 2016                 | NA                   | 82.10                |\n",
       "| Switzerland          | 2016                 | NA                   | 83.10                |\n",
       "| Syria                | 2016                 | NA                   | 69.21                |\n",
       "| Tajikistan           | 2016                 | NA                   | 72.90                |\n",
       "| Tanzania             | 2016                 | NA                   | 64.91                |\n",
       "| Thailand             | 2016                 | NA                   | 74.80                |\n",
       "| Timor-Leste          | 2016                 | NA                   | 72.50                |\n",
       "| Togo                 | 2016                 | NA                   | 61.90                |\n",
       "| Tonga                | 2016                 | NA                   | 71.70                |\n",
       "| Trinidad and Tobago  | 2016                 | NA                   | 72.50                |\n",
       "| Tunisia              | 2016                 | NA                   | 77.60                |\n",
       "| Turkey               | 2016                 | NA                   | 79.30                |\n",
       "| Turkmenistan         | 2016                 | NA                   | 70.40                |\n",
       "| Uganda               | 2016                 | NA                   | 61.91                |\n",
       "| Ukraine              | 2016                 | NA                   | 71.70                |\n",
       "| United Arab Emirates | 2016                 | NA                   | 75.40                |\n",
       "| United Kingdom       | 2016                 | NA                   | 81.10                |\n",
       "| United States        | 2016                 | NA                   | 79.10                |\n",
       "| Uruguay              | 2016                 | NA                   | 77.00                |\n",
       "| Uzbekistan           | 2016                 | NA                   | 72.10                |\n",
       "| Vanuatu              | 2016                 | NA                   | 65.10                |\n",
       "| Venezuela            | 2016                 | NA                   | 74.80                |\n",
       "| West Bank and Gaza   | 2016                 | NA                   | 74.70                |\n",
       "| Vietnam              | 2016                 | NA                   | 75.60                |\n",
       "| Yemen                | 2016                 | NA                   | 64.92                |\n",
       "| Zambia               | 2016                 | NA                   | 57.10                |\n",
       "| Zimbabwe             | 2016                 | NA                   | 61.69                |\n",
       "\n"
      ],
      "text/plain": [
       "      country                year infant_mortality life_expectancy\n",
       "1     Albania                1960 115.40           62.87          \n",
       "2     Algeria                1960 148.20           47.50          \n",
       "3     Angola                 1960 208.00           35.98          \n",
       "4     Antigua and Barbuda    1960     NA           62.97          \n",
       "5     Argentina              1960  59.87           65.39          \n",
       "6     Armenia                1960     NA           66.86          \n",
       "7     Aruba                  1960     NA           65.66          \n",
       "8     Australia              1960  20.30           70.87          \n",
       "9     Austria                1960  37.30           68.75          \n",
       "10    Azerbaijan             1960     NA           61.33          \n",
       "11    Bahamas                1960  51.00           62.00          \n",
       "12    Bahrain                1960 134.50           51.64          \n",
       "13    Bangladesh             1960 176.30           46.20          \n",
       "14    Barbados               1960  69.50           61.80          \n",
       "15    Belarus                1960     NA           71.59          \n",
       "16    Belgium                1960  29.50           69.59          \n",
       "17    Belize                 1960     NA           60.08          \n",
       "18    Benin                  1960 186.90           38.29          \n",
       "19    Bhutan                 1960 175.00           35.94          \n",
       "20    Bolivia                1960 173.40           43.77          \n",
       "21    Bosnia and Herzegovina 1960 105.00           62.56          \n",
       "22    Botswana               1960 115.50           50.34          \n",
       "23    Brazil                 1960 129.40           55.27          \n",
       "24    Brunei                 1960  63.00           62.52          \n",
       "25    Bulgaria               1960  49.00           69.22          \n",
       "26    Burkina Faso           1960 161.30           35.21          \n",
       "27    Burundi                1960 145.10           40.58          \n",
       "28    Cambodia               1960     NA           42.29          \n",
       "29    Cameroon               1960 166.90           43.46          \n",
       "30    Canada                 1960  27.80           71.00          \n",
       "...   ...                    ...  ...              ...            \n",
       "10516 Sudan                  2016 NA               67.80          \n",
       "10517 Suriname               2016 NA               72.20          \n",
       "10518 Swaziland              2016 NA               53.88          \n",
       "10519 Sweden                 2016 NA               82.10          \n",
       "10520 Switzerland            2016 NA               83.10          \n",
       "10521 Syria                  2016 NA               69.21          \n",
       "10522 Tajikistan             2016 NA               72.90          \n",
       "10523 Tanzania               2016 NA               64.91          \n",
       "10524 Thailand               2016 NA               74.80          \n",
       "10525 Timor-Leste            2016 NA               72.50          \n",
       "10526 Togo                   2016 NA               61.90          \n",
       "10527 Tonga                  2016 NA               71.70          \n",
       "10528 Trinidad and Tobago    2016 NA               72.50          \n",
       "10529 Tunisia                2016 NA               77.60          \n",
       "10530 Turkey                 2016 NA               79.30          \n",
       "10531 Turkmenistan           2016 NA               70.40          \n",
       "10532 Uganda                 2016 NA               61.91          \n",
       "10533 Ukraine                2016 NA               71.70          \n",
       "10534 United Arab Emirates   2016 NA               75.40          \n",
       "10535 United Kingdom         2016 NA               81.10          \n",
       "10536 United States          2016 NA               79.10          \n",
       "10537 Uruguay                2016 NA               77.00          \n",
       "10538 Uzbekistan             2016 NA               72.10          \n",
       "10539 Vanuatu                2016 NA               65.10          \n",
       "10540 Venezuela              2016 NA               74.80          \n",
       "10541 West Bank and Gaza     2016 NA               74.70          \n",
       "10542 Vietnam                2016 NA               75.60          \n",
       "10543 Yemen                  2016 NA               64.92          \n",
       "10544 Zambia                 2016 NA               57.10          \n",
       "10545 Zimbabwe               2016 NA               61.69          "
      ]
     },
     "metadata": {},
     "output_type": "display_data"
    }
   ],
   "source": [
    "# Access columns using index slicing\n",
    "gapminder %>% select(1:4) # it will access index 1, 2, 3, 4 (first four rows)"
   ]
  },
  {
   "cell_type": "code",
   "execution_count": 46,
   "metadata": {},
   "outputs": [
    {
     "data": {
      "text/html": [
       "<table>\n",
       "<thead><tr><th scope=col>country</th><th scope=col>year</th><th scope=col>infant_mortality</th><th scope=col>life_expectancy</th><th scope=col>fertility</th><th scope=col>population</th><th scope=col>gdp</th><th scope=col>continent</th><th scope=col>region</th></tr></thead>\n",
       "<tbody>\n",
       "\t<tr><td>Egypt          </td><td>1960           </td><td>209.6          </td><td>48.31          </td><td>6.63           </td><td>27072397       </td><td>12008501551    </td><td>Africa         </td><td>Northern Africa</td></tr>\n",
       "\t<tr><td>Egypt          </td><td>1961           </td><td>202.7          </td><td>48.89          </td><td>6.61           </td><td>27810001       </td><td>12536920098    </td><td>Africa         </td><td>Northern Africa</td></tr>\n",
       "</tbody>\n",
       "</table>\n"
      ],
      "text/latex": [
       "\\begin{tabular}{r|lllllllll}\n",
       " country & year & infant\\_mortality & life\\_expectancy & fertility & population & gdp & continent & region\\\\\n",
       "\\hline\n",
       "\t Egypt           & 1960            & 209.6           & 48.31           & 6.63            & 27072397        & 12008501551     & Africa          & Northern Africa\\\\\n",
       "\t Egypt           & 1961            & 202.7           & 48.89           & 6.61            & 27810001        & 12536920098     & Africa          & Northern Africa\\\\\n",
       "\\end{tabular}\n"
      ],
      "text/markdown": [
       "\n",
       "| country | year | infant_mortality | life_expectancy | fertility | population | gdp | continent | region |\n",
       "|---|---|---|---|---|---|---|---|---|\n",
       "| Egypt           | 1960            | 209.6           | 48.31           | 6.63            | 27072397        | 12008501551     | Africa          | Northern Africa |\n",
       "| Egypt           | 1961            | 202.7           | 48.89           | 6.61            | 27810001        | 12536920098     | Africa          | Northern Africa |\n",
       "\n"
      ],
      "text/plain": [
       "  country year infant_mortality life_expectancy fertility population\n",
       "1 Egypt   1960 209.6            48.31           6.63      27072397  \n",
       "2 Egypt   1961 202.7            48.89           6.61      27810001  \n",
       "  gdp         continent region         \n",
       "1 12008501551 Africa    Northern Africa\n",
       "2 12536920098 Africa    Northern Africa"
      ]
     },
     "metadata": {},
     "output_type": "display_data"
    }
   ],
   "source": [
    "# filter - You can filter your dataset using filter function of dplyr\n",
    "gapminder %>% filter(infant_mortality>200 & region == 'Northern Africa')"
   ]
  },
  {
   "cell_type": "code",
   "execution_count": 52,
   "metadata": {},
   "outputs": [],
   "source": [
    "# Adding a new column\n",
    "# we will add new column called dollar_per_day - it shows the per day income of a person in dollars\n",
    "\n",
    "gapminder <- gapminder %>% mutate(dollars_per_day =  gdp/population/365)"
   ]
  },
  {
   "cell_type": "code",
   "execution_count": 53,
   "metadata": {},
   "outputs": [
    {
     "data": {
      "text/html": [
       "<ol class=list-inline>\n",
       "\t<li>'country'</li>\n",
       "\t<li>'year'</li>\n",
       "\t<li>'infant_mortality'</li>\n",
       "\t<li>'life_expectancy'</li>\n",
       "\t<li>'fertility'</li>\n",
       "\t<li>'population'</li>\n",
       "\t<li>'gdp'</li>\n",
       "\t<li>'continent'</li>\n",
       "\t<li>'region'</li>\n",
       "\t<li>'dollars_per_day'</li>\n",
       "</ol>\n"
      ],
      "text/latex": [
       "\\begin{enumerate*}\n",
       "\\item 'country'\n",
       "\\item 'year'\n",
       "\\item 'infant\\_mortality'\n",
       "\\item 'life\\_expectancy'\n",
       "\\item 'fertility'\n",
       "\\item 'population'\n",
       "\\item 'gdp'\n",
       "\\item 'continent'\n",
       "\\item 'region'\n",
       "\\item 'dollars\\_per\\_day'\n",
       "\\end{enumerate*}\n"
      ],
      "text/markdown": [
       "1. 'country'\n",
       "2. 'year'\n",
       "3. 'infant_mortality'\n",
       "4. 'life_expectancy'\n",
       "5. 'fertility'\n",
       "6. 'population'\n",
       "7. 'gdp'\n",
       "8. 'continent'\n",
       "9. 'region'\n",
       "10. 'dollars_per_day'\n",
       "\n",
       "\n"
      ],
      "text/plain": [
       " [1] \"country\"          \"year\"             \"infant_mortality\" \"life_expectancy\" \n",
       " [5] \"fertility\"        \"population\"       \"gdp\"              \"continent\"       \n",
       " [9] \"region\"           \"dollars_per_day\" "
      ]
     },
     "metadata": {},
     "output_type": "display_data"
    }
   ],
   "source": [
    "# so now we can see our dataset has new column called dollars_per_day\n",
    "names(gapminder)"
   ]
  },
  {
   "cell_type": "code",
   "execution_count": 54,
   "metadata": {},
   "outputs": [],
   "source": [
    "# Selecting a subset in a new dataframe\n",
    "new_dataset <- gapminder %>% select(c(\"country\", \"region\", \"continent\", \"dollars_per_day\"))"
   ]
  },
  {
   "cell_type": "code",
   "execution_count": 55,
   "metadata": {},
   "outputs": [
    {
     "data": {
      "text/html": [
       "<table>\n",
       "<thead><tr><th scope=col>country</th><th scope=col>region</th><th scope=col>continent</th><th scope=col>dollars_per_day</th></tr></thead>\n",
       "<tbody>\n",
       "\t<tr><td>Albania            </td><td>Southern Europe    </td><td>Europe             </td><td>       NA          </td></tr>\n",
       "\t<tr><td>Algeria            </td><td>Northern Africa    </td><td>Africa             </td><td> 3.405458          </td></tr>\n",
       "\t<tr><td>Angola             </td><td>Middle Africa      </td><td>Africa             </td><td>       NA          </td></tr>\n",
       "\t<tr><td>Antigua and Barbuda</td><td>Caribbean          </td><td>Americas           </td><td>       NA          </td></tr>\n",
       "\t<tr><td>Argentina          </td><td>South America      </td><td>Americas           </td><td>14.393153          </td></tr>\n",
       "\t<tr><td>Armenia            </td><td>Western Asia       </td><td>Asia               </td><td>       NA          </td></tr>\n",
       "</tbody>\n",
       "</table>\n"
      ],
      "text/latex": [
       "\\begin{tabular}{r|llll}\n",
       " country & region & continent & dollars\\_per\\_day\\\\\n",
       "\\hline\n",
       "\t Albania             & Southern Europe     & Europe              &        NA          \\\\\n",
       "\t Algeria             & Northern Africa     & Africa              &  3.405458          \\\\\n",
       "\t Angola              & Middle Africa       & Africa              &        NA          \\\\\n",
       "\t Antigua and Barbuda & Caribbean           & Americas            &        NA          \\\\\n",
       "\t Argentina           & South America       & Americas            & 14.393153          \\\\\n",
       "\t Armenia             & Western Asia        & Asia                &        NA          \\\\\n",
       "\\end{tabular}\n"
      ],
      "text/markdown": [
       "\n",
       "| country | region | continent | dollars_per_day |\n",
       "|---|---|---|---|\n",
       "| Albania             | Southern Europe     | Europe              |        NA           |\n",
       "| Algeria             | Northern Africa     | Africa              |  3.405458           |\n",
       "| Angola              | Middle Africa       | Africa              |        NA           |\n",
       "| Antigua and Barbuda | Caribbean           | Americas            |        NA           |\n",
       "| Argentina           | South America       | Americas            | 14.393153           |\n",
       "| Armenia             | Western Asia        | Asia                |        NA           |\n",
       "\n"
      ],
      "text/plain": [
       "  country             region          continent dollars_per_day\n",
       "1 Albania             Southern Europe Europe           NA      \n",
       "2 Algeria             Northern Africa Africa     3.405458      \n",
       "3 Angola              Middle Africa   Africa           NA      \n",
       "4 Antigua and Barbuda Caribbean       Americas         NA      \n",
       "5 Argentina           South America   Americas  14.393153      \n",
       "6 Armenia             Western Asia    Asia             NA      "
      ]
     },
     "metadata": {},
     "output_type": "display_data"
    }
   ],
   "source": [
    "head(new_dataset)"
   ]
  },
  {
   "cell_type": "markdown",
   "metadata": {},
   "source": [
    "# Visualizations"
   ]
  },
  {
   "cell_type": "code",
   "execution_count": 56,
   "metadata": {},
   "outputs": [],
   "source": [
    "# For visualization we will use ggplot(graphic grammer). It is enriched of useful functions.\n",
    "# first we will create a ggplot object and then we add layers step-wise-step.\n",
    "# In this way it is very easy to manage ggplots in R. Lets understand with and example.\n",
    "# lets create a ggplot object and then store it to hist object, we will plot dollars_per_day histogram\n",
    "\n",
    "# In the below code we are creating a ggplot object. aes means aesthetic layer, which will map dollars_per_day in x. As\n",
    "# we are creating histgram, we do not need y axis maping. It will be needed in other multivariate plot, which we will \n",
    "# see later.\n",
    "hist <- gapminder %>% ggplot(aes(x=dollars_per_day))"
   ]
  },
  {
   "cell_type": "code",
   "execution_count": 57,
   "metadata": {},
   "outputs": [
    {
     "data": {
      "image/png": "[encoded data removed]",
      "text/plain": [
       "plot without title"
      ]
     },
     "metadata": {},
     "output_type": "display_data"
    }
   ],
   "source": [
    "# so now if you see, we have an empty plot (object of ggplot) named hist.\n",
    "hist # it will plot a gray empty area, as we have not plotted anything till now."
   ]
  },
  {
   "cell_type": "code",
   "execution_count": 59,
   "metadata": {},
   "outputs": [
    {
     "name": "stderr",
     "output_type": "stream",
     "text": [
      "Warning message:\n",
      "\"Removed 2972 rows containing non-finite values (stat_bin).\""
     ]
    },
    {
     "data": {
      "image/png": "[encoded data removed]",
      "text/plain": [
       "plot without title"
      ]
     },
     "metadata": {},
     "output_type": "display_data"
    }
   ],
   "source": [
    "# so now lets add some layers.\n",
    "hist + # + sign means we are adding layers\n",
    "    geom_histogram(binwidth=1, color=\"black\") + # add histogram\n",
    "    xlab(\"Dollars Per Day\") + # x-axis label\n",
    "    ylab(\"Countries Count\") # y-axis label\n",
    "\n",
    "# so we can handle binwidth (here is 1) and color. So we can see histogram for dollars per day across the world."
   ]
  },
  {
   "cell_type": "code",
   "execution_count": 61,
   "metadata": {},
   "outputs": [
    {
     "name": "stderr",
     "output_type": "stream",
     "text": [
      "Warning message:\n",
      "\"Removed 2972 rows containing non-finite values (stat_bin).\""
     ]
    },
    {
     "data": {
      "image/png": "[encoded data removed]",
      "text/plain": [
       "plot without title"
      ]
     },
     "metadata": {},
     "output_type": "display_data"
    }
   ],
   "source": [
    "# but as we can see our data is not scaled lets normalized. So an easier way to do this add one layer to scale our data\n",
    "# using log with base 2\n",
    "hist + # + sign means we are adding layers\n",
    "    geom_histogram(binwidth=1, color=\"black\") + # add histogram\n",
    "    xlab(\"Dollars Per Day\") + # x-axis label\n",
    "    ylab(\"Countries Count\")+ # y-axis label\n",
    "    scale_x_continuous(trans=\"log2\")"
   ]
  },
  {
   "cell_type": "code",
   "execution_count": 62,
   "metadata": {},
   "outputs": [],
   "source": [
    "# So now you can see data even clearer. We can say mostly countries has 4 dollars a day. So we can say most of the countries\n",
    "# have less than 8 dollars per day value. But with the graph we are not clear, which countries are they? \n",
    "# or which region or continent. Lets try to make some changes in our histogram to find out this.\n"
   ]
  },
  {
   "cell_type": "code",
   "execution_count": 72,
   "metadata": {},
   "outputs": [
    {
     "name": "stderr",
     "output_type": "stream",
     "text": [
      "Warning message:\n",
      "\"Removed 2972 rows containing non-finite values (stat_bin).\""
     ]
    },
    {
     "data": {
      "image/png": "[encoded data removed]",
      "text/plain": [
       "plot without title"
      ]
     },
     "metadata": {},
     "output_type": "display_data"
    }
   ],
   "source": [
    "hist <- gapminder %>% ggplot(aes(x=dollars_per_day, fill=continent))\n",
    "\n",
    "hist + # + sign means we are adding layers\n",
    "    geom_histogram(binwidth=1, color=\"black\") + # add histogram\n",
    "    xlab(\"Dollars Per Day\") + # x-axis label\n",
    "    ylab(\"Countries Count\")+ # y-axis label\n",
    "    scale_x_continuous(trans=\"log2\")"
   ]
  },
  {
   "cell_type": "code",
   "execution_count": 73,
   "metadata": {},
   "outputs": [],
   "source": [
    "# so we added color but its not pretty clear. So our main was to tell you how to use ggplot. Now we will try to answer\n",
    "# certain questions."
   ]
  },
  {
   "cell_type": "code",
   "execution_count": 79,
   "metadata": {},
   "outputs": [],
   "source": [
    "# first lets find out the minimum and maximum year. It will tell the range of data\n",
    "sum <- gapminder %>% summarize(minyear=min(year), maxyear=max(year))"
   ]
  },
  {
   "cell_type": "code",
   "execution_count": 80,
   "metadata": {},
   "outputs": [
    {
     "data": {
      "text/html": [
       "<table>\n",
       "<thead><tr><th scope=col>minyear</th><th scope=col>maxyear</th></tr></thead>\n",
       "<tbody>\n",
       "\t<tr><td>1960</td><td>2016</td></tr>\n",
       "</tbody>\n",
       "</table>\n"
      ],
      "text/latex": [
       "\\begin{tabular}{r|ll}\n",
       " minyear & maxyear\\\\\n",
       "\\hline\n",
       "\t 1960 & 2016\\\\\n",
       "\\end{tabular}\n"
      ],
      "text/markdown": [
       "\n",
       "| minyear | maxyear |\n",
       "|---|---|\n",
       "| 1960 | 2016 |\n",
       "\n"
      ],
      "text/plain": [
       "  minyear maxyear\n",
       "1 1960    2016   "
      ]
     },
     "metadata": {},
     "output_type": "display_data"
    }
   ],
   "source": [
    "sum"
   ]
  },
  {
   "cell_type": "code",
   "execution_count": 81,
   "metadata": {},
   "outputs": [],
   "source": [
    "# so we have data from 1960 to 2016."
   ]
  },
  {
   "cell_type": "markdown",
   "metadata": {},
   "source": [
    "Our first question is: Is there any relationship between fertility and life expectency rate. So lets talk about generally first. In a general way, we can say more fertility rate means less mortality. Why this?\n",
    "Second, generally developing countries has higher fertility rate than developed countries?\n",
    "> As more fertility rate means more child and more child in poor and developing countries mean lack of resource in a family. So it may lead to less mortality rate. Well it is just a theory, Lets see whether can we prove it. Also we will check likewise for developed countries"
   ]
  },
  {
   "cell_type": "markdown",
   "metadata": {},
   "source": [
    "# Scatter Plot"
   ]
  },
  {
   "cell_type": "code",
   "execution_count": 88,
   "metadata": {},
   "outputs": [
    {
     "name": "stderr",
     "output_type": "stream",
     "text": [
      "Warning message:\n",
      "\"Removed 187 rows containing missing values (geom_point).\""
     ]
    },
    {
     "data": {
      "image/png": "[encoded data removed]",
      "text/plain": [
       "plot without title"
      ]
     },
     "metadata": {},
     "output_type": "display_data"
    }
   ],
   "source": [
    "# we will plot a time series between fertility rate and mortality rate\n",
    "ts <- gapminder %>% ggplot(aes(x=fertility, y=life_expectancy, col=continent))\n",
    "ts+geom_point()"
   ]
  },
  {
   "cell_type": "code",
   "execution_count": 92,
   "metadata": {},
   "outputs": [
    {
     "name": "stderr",
     "output_type": "stream",
     "text": [
      "Warning message:\n",
      "\"Removed 4 rows containing missing values (geom_point).\""
     ]
    },
    {
     "data": {
      "image/png": "[encoded data removed]",
      "text/plain": [
       "plot without title"
      ]
     },
     "metadata": {},
     "output_type": "display_data"
    }
   ],
   "source": [
    "# So well we can see, there is a negative relationship As fertility going rightside(increasing), life expectecy going down(reducing).\n",
    "# so as a data scientist no we have proof that fertility and life expectency behave inversly.\n",
    "# but lets plot time series for two countries (one from poor or developing region, one developed).\n",
    "ts <- gapminder %>% filter(country %in% c(\"South Korea\", \"Algeria\", \"France\", \"Germany\")) %>% ggplot(aes(x=fertility, y=life_expectancy, col=continent))\n",
    "ts+geom_point()"
   ]
  },
  {
   "cell_type": "code",
   "execution_count": 91,
   "metadata": {},
   "outputs": [],
   "source": [
    "# So again we can see as Asia and African region mostly have developing countries and europe & north american countries\n",
    "# are  mostly developed. So we can see a relation that mostly developed countries have less fertility rate, which makes\n",
    "# sense. less family member means you need less money to take care of. It is not the only reason for the countries \n",
    "# economy or development but it is one of them."
   ]
  },
  {
   "cell_type": "code",
   "execution_count": 93,
   "metadata": {},
   "outputs": [],
   "source": [
    "# So finally our hyphothesis that developed countries have less fertility rate than developing or poor countries was correct.\n",
    "# Also there is a inverse relationship between fertility and life span"
   ]
  },
  {
   "cell_type": "code",
   "execution_count": 119,
   "metadata": {},
   "outputs": [
    {
     "data": {
      "image/png": "[encoded data removed]",
      "text/plain": [
       "plot without title"
      ]
     },
     "metadata": {},
     "output_type": "display_data"
    }
   ],
   "source": [
    "# Lets see the dollars per day income of all the countries in 1960 and then we will compare it to the dollars per day value\n",
    "# of 2010 and try to find out is there any improvement in the income of various countries.\n",
    "past_year<- 1960\n",
    "box <- gapminder %>% filter(year == past_year & !is.na(dollars_per_day) ) %>% mutate(region = reorder(region, dollars_per_day, FUN = median)) %>% ggplot(aes(x=region, y=dollars_per_day, fill=continent))\n",
    "    \n",
    "box+geom_boxplot()+\n",
    "    theme(axis.text.x = element_text(angle = 90, hjust = 1))+\n",
    "    xlab(\"Region\")+\n",
    "    ylab(\"Dollars Per Day in 1960\")+\n",
    "    scale_y_continuous(trans = \"log2\")"
   ]
  },
  {
   "cell_type": "code",
   "execution_count": 117,
   "metadata": {},
   "outputs": [
    {
     "data": {
      "image/png": "[encoded data removed]",
      "text/plain": [
       "plot without title"
      ]
     },
     "metadata": {},
     "output_type": "display_data"
    }
   ],
   "source": [
    "present_year<- 2010\n",
    "box <- gapminder %>% filter(year == present_year & !is.na(dollars_per_day) ) %>% mutate(region = reorder(region, dollars_per_day, FUN = median)) %>% ggplot(aes(x=region, y=dollars_per_day, fill=continent))\n",
    "    \n",
    "box+geom_boxplot()+\n",
    "    theme(axis.text.x = element_text(angle = 90, hjust = 1))+\n",
    "    xlab(\"Region\")+\n",
    "    ylab(\"Dollars Per Day in 2010\")+\n",
    "    scale_y_continuous(trans = \"log2\")"
   ]
  },
  {
   "cell_type": "code",
   "execution_count": 131,
   "metadata": {},
   "outputs": [
    {
     "data": {
      "image/png": "[encoded data removed]",
      "text/plain": [
       "plot without title"
      ]
     },
     "metadata": {},
     "output_type": "display_data"
    }
   ],
   "source": [
    "# So now we have data for both the years but its very hard to compare as both boxplots are not together.\n",
    "# lets try to plot them together\n",
    "present_year<- 2010\n",
    "box <- gapminder %>% filter(year %in% c(past_year, present_year) & !is.na(dollars_per_day) ) %>% mutate(region = reorder(region, dollars_per_day, FUN = median)) %>% ggplot(aes(x=region, y=dollars_per_day, fill=continent))\n",
    "    \n",
    "box+geom_boxplot()+\n",
    "    theme(axis.text.x = element_text(angle = 90, hjust = 1))+\n",
    "    xlab(\"Region\")+\n",
    "    ylab(\"Dollars Per Day in 1960 VS 2010\")+\n",
    "    scale_y_continuous(trans = \"log2\")+\n",
    "    facet_grid(.~year)"
   ]
  },
  {
   "cell_type": "code",
   "execution_count": 154,
   "metadata": {},
   "outputs": [
    {
     "data": {
      "image/png": "[encoded data removed]",
      "text/plain": [
       "plot without title"
      ]
     },
     "metadata": {},
     "output_type": "display_data"
    }
   ],
   "source": [
    "# we can do some change to make comparison even better. So change the fill property in ggplot with year but as year is an integer\n",
    "# we have to convert it into factor\n",
    "present_year<- 2010\n",
    "box <- gapminder %>% filter(year %in% c(past_year, present_year) & !is.na(dollars_per_day) ) %>% mutate(region = reorder(region, dollars_per_day, FUN = median)) %>% ggplot(aes(x=region, y=dollars_per_day, fill=factor(year)))\n",
    "    \n",
    "box+geom_boxplot()+\n",
    "    theme(axis.text.x = element_text(angle = 90, hjust = 1))+\n",
    "    xlab(\"Region\")+\n",
    "    ylab(\"Dollars Per Day in 1960 VS 2010\")+\n",
    "    scale_y_continuous(trans = \"log2\")\n",
    "    "
   ]
  },
  {
   "cell_type": "code",
   "execution_count": 132,
   "metadata": {},
   "outputs": [],
   "source": [
    "# So now we can see many countries improved in terms of dollars per day. We can see developing countries performed better than\n",
    "# developed countries. Above diagram show that european and north american countries are on top in terms of income."
   ]
  },
  {
   "cell_type": "markdown",
   "metadata": {},
   "source": [
    "# Time Series"
   ]
  },
  {
   "cell_type": "code",
   "execution_count": 139,
   "metadata": {},
   "outputs": [
    {
     "data": {
      "image/png": "[encoded data removed]",
      "text/plain": [
       "plot without title"
      ]
     },
     "metadata": {},
     "output_type": "display_data"
    }
   ],
   "source": [
    "# Time series is a special kind of plot where we plot date or time or some instance of time in x-axis.\n",
    "# we can use line plot to generate a time series. \n",
    "# lets compare time series of some countries, We will see how they improved in terms of income(dollars per day).\n",
    "countries <- c(\"Algeria\", \"France\", \"South Korea\", \"Japan\", \"Germany\")\n",
    "ts <- gapminder %>% filter(country %in% countries & !is.na(dollars_per_day)) %>% ggplot(aes(x=year, y=dollars_per_day, col=country))\n",
    "\n",
    "ts+geom_line()+\n",
    "xlab(\"Year\")+\n",
    "ylab(\"Dollars/day\")"
   ]
  },
  {
   "cell_type": "code",
   "execution_count": 140,
   "metadata": {},
   "outputs": [],
   "source": [
    "# so above plot shows how these countries improved their economy since 1960. Japan showing an incredible increase.\n",
    "# but if we see algeria. It doesnt have a significant growth. Lets compare the fertility rate of the same countries"
   ]
  },
  {
   "cell_type": "code",
   "execution_count": 142,
   "metadata": {},
   "outputs": [
    {
     "data": {
      "image/png": "[encoded data removed]",
      "text/plain": [
       "plot without title"
      ]
     },
     "metadata": {},
     "output_type": "display_data"
    }
   ],
   "source": [
    "ts <- gapminder %>% filter(country %in% countries & !is.na(fertility)) %>% ggplot(aes(x=year, y=fertility, col=country))\n",
    "\n",
    "ts+geom_line()+\n",
    "xlab(\"Year\")+\n",
    "ylab(\"Fertility\")"
   ]
  },
  {
   "cell_type": "code",
   "execution_count": 143,
   "metadata": {},
   "outputs": [],
   "source": [
    "# We can see algeria and south korea have a huge decrease in fertility rate."
   ]
  },
  {
   "cell_type": "code",
   "execution_count": 147,
   "metadata": {},
   "outputs": [
    {
     "data": {
      "image/png": "[encoded data removed]",
      "text/plain": [
       "plot without title"
      ]
     },
     "metadata": {},
     "output_type": "display_data"
    }
   ],
   "source": [
    "# Faceting - It is useful when you have to plot multiple plot together\n",
    "plt <- gapminder %>% filter(year %in% c(1965, 2015) & !is.na(life_expectancy)  & !is.na(fertility)) %>% ggplot(aes(x=fertility, y=life_expectancy))\n",
    "plt+geom_point(aes(col=continent))+\n",
    "xlab(\"Fertility Rate\")+\n",
    "ylab(\"Child Mortality\")+\n",
    "ggtitle(\"Fertility Vs Mortality in 2015\")+\n",
    "scale_color_discrete(\"Continent\")+\n",
    "facet_grid(continent~year)"
   ]
  },
  {
   "cell_type": "code",
   "execution_count": 148,
   "metadata": {},
   "outputs": [],
   "source": [
    "# So here we can see how fertiity rate is decreasing and life expectency increasing acros the world."
   ]
  },
  {
   "cell_type": "code",
   "execution_count": 155,
   "metadata": {},
   "outputs": [],
   "source": [
    "# So finally i think we have answers to all the question. There are many things which we interpret from these visualization. \n",
    "# I hope it was useful to you."
   ]
  },
  {
   "cell_type": "code",
   "execution_count": null,
   "metadata": {},
   "outputs": [],
   "source": [
    "# Thanks and Upvote if you like it."
   ]
  }
 ],
 "metadata": {
  "kernelspec": {
   "display_name": "R",
   "language": "R",
   "name": "ir"
  },
  "language_info": {
   "codemirror_mode": "r",
   "file_extension": ".r",
   "mimetype": "text/x-r-source",
   "name": "R",
   "pygments_lexer": "r",
   "version": "3.6.1"
  }
 },
 "nbformat": 4,
 "nbformat_minor": 4
}
